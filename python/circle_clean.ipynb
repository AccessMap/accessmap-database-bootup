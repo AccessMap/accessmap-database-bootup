{
 "cells": [
  {
   "cell_type": "code",
   "execution_count": 1,
   "metadata": {
    "collapsed": true
   },
   "outputs": [],
   "source": [
    "import geopandas as gpd\n",
    "import numpy as np\n",
    "import pandas as pd\n",
    "from shapely import geometry, ops\n",
    "import matplotlib.pyplot as plt\n",
    "\n",
    "%matplotlib inline"
   ]
  },
  {
   "cell_type": "markdown",
   "metadata": {},
   "source": [
    "# Read in data from shapefiles"
   ]
  },
  {
   "cell_type": "code",
   "execution_count": 2,
   "metadata": {
    "collapsed": true
   },
   "outputs": [],
   "source": [
    "# Read in the datasets\n",
    "streets0 = gpd.read_file('./sourcedata/streets/StatePlane/Street_Network_Database.shp')\n",
    "sidewalks0 = gpd.read_file('./sourcedata/sidewalks/Sidewalks/Sidewalks.shp')"
   ]
  },
  {
   "cell_type": "markdown",
   "metadata": {},
   "source": [
    "# Standardize datasets"
   ]
  },
  {
   "cell_type": "code",
   "execution_count": 3,
   "metadata": {
    "collapsed": false
   },
   "outputs": [],
   "source": [
    "# Strip metadata from new sidewalks/streets tables\n",
    "streets = streets0.copy()[['COMPKEY', 'geometry']]\n",
    "\n",
    "# Convert all sidewalks to LineStrings (also filters out invalid geometries)\n",
    "sidewalk_cols = ['COMPKEY', 'SEGKEY', 'CURBRAMPHI', 'CURBRAMPLO', 'geometry']\n",
    "sidewalks = sidewalks0[sidewalks0.geometry.type == 'LineString'].copy()[sidewalk_cols]\n",
    "\n",
    "newrows = []\n",
    "for i, row in sidewalks0[sidewalks0.geometry.type == 'MultiLineString'].iterrows():\n",
    "    for geom in row.geometry:\n",
    "        newrows.append(row.copy()[sidewalk_cols])\n",
    "        newrows[-1].geometry = geom\n",
    "sidewalks = pd.concat([sidewalks, gpd.GeoDataFrame(newrows)])\n",
    "\n",
    "sidewalks.rename(columns={'CURBRAMPHI': 'curbramp_end', 'CURBRAMPLO': 'curbramp_start'}, inplace=True)\n",
    "\n",
    "# This created duplicate indices, which currently have no meaning - reset the index\n",
    "# and create a column for it\n",
    "sidewalks.reset_index(drop=True, inplace=True)\n",
    "sidewalks.reset_index(inplace=True)\n",
    "streets.reset_index(inplace=True)"
   ]
  },
  {
   "cell_type": "code",
   "execution_count": 4,
   "metadata": {
    "collapsed": false
   },
   "outputs": [
    {
     "data": {
      "text/html": [
       "<div>\n",
       "<table border=\"1\" class=\"dataframe\">\n",
       "  <thead>\n",
       "    <tr style=\"text-align: right;\">\n",
       "      <th></th>\n",
       "      <th>geometry</th>\n",
       "      <th>SW_COMPKEY</th>\n",
       "      <th>endtype</th>\n",
       "    </tr>\n",
       "  </thead>\n",
       "  <tbody>\n",
       "    <tr>\n",
       "      <th>0</th>\n",
       "      <td>POINT (1281705.930926725 269032.0037278831)</td>\n",
       "      <td>330518</td>\n",
       "      <td>end</td>\n",
       "    </tr>\n",
       "    <tr>\n",
       "      <th>7</th>\n",
       "      <td>POINT (1264537.764147639 247666.632744804)</td>\n",
       "      <td>330261</td>\n",
       "      <td>end</td>\n",
       "    </tr>\n",
       "    <tr>\n",
       "      <th>10</th>\n",
       "      <td>POINT (1274390.088274971 195873.9157923907)</td>\n",
       "      <td>330341</td>\n",
       "      <td>end</td>\n",
       "    </tr>\n",
       "    <tr>\n",
       "      <th>22</th>\n",
       "      <td>POINT (1274408.131217897 195910.732319802)</td>\n",
       "      <td>330342</td>\n",
       "      <td>end</td>\n",
       "    </tr>\n",
       "    <tr>\n",
       "      <th>24</th>\n",
       "      <td>POINT (1263916.749969721 247684.8416978866)</td>\n",
       "      <td>330262</td>\n",
       "      <td>end</td>\n",
       "    </tr>\n",
       "  </tbody>\n",
       "</table>\n",
       "</div>"
      ],
      "text/plain": [
       "                                       geometry  SW_COMPKEY endtype\n",
       "0   POINT (1281705.930926725 269032.0037278831)      330518     end\n",
       "7    POINT (1264537.764147639 247666.632744804)      330261     end\n",
       "10  POINT (1274390.088274971 195873.9157923907)      330341     end\n",
       "22   POINT (1274408.131217897 195910.732319802)      330342     end\n",
       "24  POINT (1263916.749969721 247684.8416978866)      330262     end"
      ]
     },
     "execution_count": 4,
     "metadata": {},
     "output_type": "execute_result"
    }
   ],
   "source": [
    "# Create curbramps table based on sidewalks\n",
    "curbend = sidewalks[sidewalks['curbramp_end'] == 'Y']\n",
    "curbstart = sidewalks[sidewalks['curbramp_start'] == 'Y']\n",
    "\n",
    "curbramps = gpd.GeoDataFrame(pd.concat([curbend.geometry.apply(lambda x: geometry.Point(x.coords[-1])), \n",
    "                                        curbstart.geometry.apply(lambda x: geometry.Point(x.coords[0]))]))\n",
    "\n",
    "curbramps['SW_COMPKEY'] = pd.concat([curbend['COMPKEY'], curbstart['COMPKEY']])\n",
    "curbramps['endtype'] = curbend.shape[0] * ['end'] + curbstart.shape[0] * ['start']\n",
    "\n",
    "curbramps.head()"
   ]
  },
  {
   "cell_type": "code",
   "execution_count": 5,
   "metadata": {
    "collapsed": false
   },
   "outputs": [
    {
     "name": "stdout",
     "output_type": "stream",
     "text": [
      "(45587, 6)\n",
      "(45583, 6)\n"
     ]
    }
   ],
   "source": [
    "# Remove sidewalks that are almost exactly their streets - this happens when bad 'width'\n",
    "# data was used to extrapolate sidewalks\n",
    "\n",
    "print sidewalks.shape\n",
    "\n",
    "sdw_st = pd.merge(sidewalks, streets, left_on='SEGKEY', right_on='COMPKEY')\n",
    "\n",
    "def geoms_differ(geoseries, tol=0.1):\n",
    "    x = np.array(geoseries['geometry_x'].coords)\n",
    "    y = np.array(geoseries['geometry_y'].coords)\n",
    "\n",
    "    if x.shape != y.shape:\n",
    "        return True\n",
    "    if abs(x - y).sum() > tol:\n",
    "        return True\n",
    "    else:\n",
    "        return False\n",
    "\n",
    "sdw_st_clean = sdw_st[sdw_st.apply(geoms_differ, axis=1)]\n",
    "sidewalks = sidewalks[sidewalks['COMPKEY'].isin(sdw_st_clean['COMPKEY_x'])]\n",
    "\n",
    "print sidewalks.shape"
   ]
  },
  {
   "cell_type": "markdown",
   "metadata": {},
   "source": [
    "# Trim sidewalk lines that intersect streets"
   ]
  },
  {
   "cell_type": "code",
   "execution_count": 6,
   "metadata": {
    "collapsed": false,
    "scrolled": true
   },
   "outputs": [
    {
     "name": "stdout",
     "output_type": "stream",
     "text": [
      "(6575, 4)\n"
     ]
    },
    {
     "data": {
      "text/html": [
       "<div>\n",
       "<table border=\"1\" class=\"dataframe\">\n",
       "  <thead>\n",
       "    <tr style=\"text-align: right;\">\n",
       "      <th></th>\n",
       "      <th>index_sw</th>\n",
       "      <th>geometry</th>\n",
       "      <th>index_st</th>\n",
       "      <th>geometry_st</th>\n",
       "    </tr>\n",
       "  </thead>\n",
       "  <tbody>\n",
       "    <tr>\n",
       "      <th>0</th>\n",
       "      <td>0</td>\n",
       "      <td>LINESTRING (1281458.343495399 269038.231733799...</td>\n",
       "      <td>33635</td>\n",
       "      <td>LINESTRING (1281705.553469256 268388.520134866...</td>\n",
       "    </tr>\n",
       "    <tr>\n",
       "      <th>8315</th>\n",
       "      <td>8315</td>\n",
       "      <td>LINESTRING (1281685.071060315 268401.527626633...</td>\n",
       "      <td>33635</td>\n",
       "      <td>LINESTRING (1281705.553469256 268388.520134866...</td>\n",
       "    </tr>\n",
       "    <tr>\n",
       "      <th>10</th>\n",
       "      <td>10</td>\n",
       "      <td>LINESTRING (1273755.200765222 196185.057886630...</td>\n",
       "      <td>27780</td>\n",
       "      <td>LINESTRING (1274222.527541593 195978.058108732...</td>\n",
       "    </tr>\n",
       "    <tr>\n",
       "      <th>3135</th>\n",
       "      <td>3135</td>\n",
       "      <td>LINESTRING (1273757.456666231 195899.382276877...</td>\n",
       "      <td>27780</td>\n",
       "      <td>LINESTRING (1274222.527541593 195978.058108732...</td>\n",
       "    </tr>\n",
       "    <tr>\n",
       "      <th>22</th>\n",
       "      <td>22</td>\n",
       "      <td>LINESTRING (1273773.243708149 196221.874414056...</td>\n",
       "      <td>27842</td>\n",
       "      <td>LINESTRING (1274381.976117745 195928.646780669...</td>\n",
       "    </tr>\n",
       "  </tbody>\n",
       "</table>\n",
       "</div>"
      ],
      "text/plain": [
       "      index_sw                                           geometry  index_st  \\\n",
       "0            0  LINESTRING (1281458.343495399 269038.231733799...     33635   \n",
       "8315      8315  LINESTRING (1281685.071060315 268401.527626633...     33635   \n",
       "10          10  LINESTRING (1273755.200765222 196185.057886630...     27780   \n",
       "3135      3135  LINESTRING (1273757.456666231 195899.382276877...     27780   \n",
       "22          22  LINESTRING (1273773.243708149 196221.874414056...     27842   \n",
       "\n",
       "                                            geometry_st  \n",
       "0     LINESTRING (1281705.553469256 268388.520134866...  \n",
       "8315  LINESTRING (1281705.553469256 268388.520134866...  \n",
       "10    LINESTRING (1274222.527541593 195978.058108732...  \n",
       "3135  LINESTRING (1274222.527541593 195978.058108732...  \n",
       "22    LINESTRING (1274381.976117745 195928.646780669...  "
      ]
     },
     "execution_count": 6,
     "metadata": {},
     "output_type": "execute_result"
    }
   ],
   "source": [
    "# CRS is forgotten during some operations, re-copy\n",
    "streets.crs = streets0.crs\n",
    "sidewalks.crs = sidewalks0.crs\n",
    "\n",
    "# Trim sidewalk lines that intersects streets - keep the side that's on the centroid of the line\n",
    "overlapping = gpd.sjoin(sidewalks[['index', 'geometry']], \n",
    "                        streets[['index', 'geometry']], \n",
    "                        how='inner', \n",
    "                        op='intersects', \n",
    "                        lsuffix='sw', \n",
    "                        rsuffix='st')\n",
    "# For some reason, the sjoin function makes two index_st columns. Drop one\n",
    "index_st = overlapping['index_st'].iloc[:, 0]\n",
    "overlapping.drop('index_st', 1, inplace=True)\n",
    "overlapping['index_st'] = index_st\n",
    "\n",
    "# The streets geometry column gets dropped, need to reselect it\n",
    "overlapping['geometry_st'] = streets.loc[overlapping['index_st']]['geometry'].tolist()\n",
    "\n",
    "print overlapping.shape\n",
    "overlapping.head()"
   ]
  },
  {
   "cell_type": "code",
   "execution_count": 36,
   "metadata": {
    "collapsed": false
   },
   "outputs": [
    {
     "data": {
      "image/png": "[encoded data removed]",
      "text/plain": [
       "<matplotlib.figure.Figure at 0x7f4a8aa3dfd0>"
      ]
     },
     "metadata": {},
     "output_type": "display_data"
    }
   ],
   "source": [
    "# Example - the central line would be kept, the others discarded\n",
    "split = overlapping.loc[62, 'geometry'].iloc[0].difference(geometry.MultiLineString(list(overlapping.loc[62, 'geometry_st']))).geoms\n",
    "ax1 = gpd.GeoSeries(split).plot(linewidth=4)\n",
    "ax1.set_aspect(2)\n",
    "\n",
    "split_mid = overlapping.loc[62, 'geometry'].iloc[0].interpolate(0.5, normalized=True)\n",
    "\n",
    "plt.scatter(split_mid.x, split_mid.y, zorder=10)\n",
    "\n",
    "fig = plt.gcf()\n",
    "fig.set_size_inches(5, 5)"
   ]
  },
  {
   "cell_type": "code",
   "execution_count": 67,
   "metadata": {
    "collapsed": false
   },
   "outputs": [
    {
     "data": {
      "text/html": [
       "<div>\n",
       "<table border=\"1\" class=\"dataframe\">\n",
       "  <thead>\n",
       "    <tr style=\"text-align: right;\">\n",
       "      <th></th>\n",
       "      <th>changed</th>\n",
       "      <th>geometry</th>\n",
       "      <th>index_sw</th>\n",
       "    </tr>\n",
       "    <tr>\n",
       "      <th></th>\n",
       "      <th></th>\n",
       "      <th></th>\n",
       "      <th></th>\n",
       "    </tr>\n",
       "  </thead>\n",
       "  <tbody>\n",
       "    <tr>\n",
       "      <th>0</th>\n",
       "      <td>True</td>\n",
       "      <td>LINESTRING (1281459.662926852 269038.198543798...</td>\n",
       "      <td>0</td>\n",
       "    </tr>\n",
       "    <tr>\n",
       "      <th>10</th>\n",
       "      <td>True</td>\n",
       "      <td>LINESTRING (1273755.659928091 196184.832862678...</td>\n",
       "      <td>10</td>\n",
       "    </tr>\n",
       "    <tr>\n",
       "      <th>22</th>\n",
       "      <td>True</td>\n",
       "      <td>LINESTRING (1273773.872082346 196221.566463969...</td>\n",
       "      <td>22</td>\n",
       "    </tr>\n",
       "    <tr>\n",
       "      <th>33</th>\n",
       "      <td>True</td>\n",
       "      <td>LINESTRING (1284868.459787216 257425.080260911...</td>\n",
       "      <td>33</td>\n",
       "    </tr>\n",
       "    <tr>\n",
       "      <th>34</th>\n",
       "      <td>True</td>\n",
       "      <td>LINESTRING (1273411.161788395 196482.143941772...</td>\n",
       "      <td>34</td>\n",
       "    </tr>\n",
       "  </tbody>\n",
       "</table>\n",
       "</div>"
      ],
      "text/plain": [
       "   changed                                           geometry  index_sw\n",
       "                                                                       \n",
       "0     True  LINESTRING (1281459.662926852 269038.198543798...         0\n",
       "10    True  LINESTRING (1273755.659928091 196184.832862678...        10\n",
       "22    True  LINESTRING (1273773.872082346 196221.566463969...        22\n",
       "33    True  LINESTRING (1284868.459787216 257425.080260911...        33\n",
       "34    True  LINESTRING (1273411.161788395 196482.143941772...        34"
      ]
     },
     "execution_count": 67,
     "metadata": {},
     "output_type": "execute_result"
    }
   ],
   "source": [
    "def trim_sidewalk(group, tol=1e-7, threshold=0.6):\n",
    "    '''Given sidewalk and street geometries, return the midpoint-containing\n",
    "    sidewalk segment.'''\n",
    "    changed = False\n",
    "    \n",
    "    index_sw = group['index_sw'].iloc[0]\n",
    "    sidewalk = group['geometry'].iloc[0]\n",
    "    street = geometry.MultiLineString(list(group['geometry_st']))\n",
    "\n",
    "    split = sidewalk.difference(street).geoms\n",
    "    \n",
    "    # First, let's just try removing the two end pieces\n",
    "    startpoint = sidewalk.coords[0]\n",
    "    endpoint = sidewalk.coords[-1]\n",
    "    trimmed_list = []\n",
    "    for line in split:\n",
    "        if startpoint not in line.coords and endpoint not in line.coords:\n",
    "            trimmed_list.append(line)\n",
    "        else:\n",
    "            if (line.length / sidewalk.length) > 0.05:\n",
    "                # dangles less than 5% of the total length will be removed\n",
    "                # FIXME: this should be an absolute length instead of relative\n",
    "                trimmed_list.append(line)  \n",
    "    \n",
    "            \n",
    "    if len(trimmed_list) != len(split):\n",
    "        changed = True\n",
    "        trimmed = ops.linemerge(trimmed_list)\n",
    "    else:\n",
    "        # No changes were made - try other strategy\n",
    "\n",
    "\n",
    "        # If that didn't work, let's try trimming to just the central piece\n",
    "        def point_on_line(line, point):\n",
    "            return line.distance(point) < tol\n",
    "\n",
    "        midpoint = sidewalk.interpolate(0.5, normalized=True)\n",
    "        mid_containing = [line for line in split if point_on_line(line, midpoint)]\n",
    "        if not mid_containing:\n",
    "            raise Exception('Segment did not contain centroid')\n",
    "        if len(mid_containing) > 1:\n",
    "            raise Exception('Multiple lines contained centroid')\n",
    "\n",
    "        # Quality control: only alter the sidewalk line if it's a relatively\n",
    "        # minor change - i.e. the central piece is quite large\n",
    "        if (mid_containing[0].length / sidewalk.length) > threshold:\n",
    "            changed = True\n",
    "            trimmed = mid_containing[0]\n",
    "        else:\n",
    "            trimmed = sidewalk\n",
    "\n",
    "    # Trim the ends slightly (0.1%) to ensure future non-intersection\n",
    "    first = trimmed.interpolate(0.001, normalized=True)\n",
    "    last = trimmed.interpolate(0.999, normalized=True)\n",
    "    \n",
    "    trimmed_arr = list(trimmed.coords)\n",
    "    trimmed_arr[0] = (first.x, first.y)\n",
    "    trimmed_arr[-1] = (last.x, last.y)\n",
    "    \n",
    "    trimmed = geometry.LineString(trimmed_arr)\n",
    "    \n",
    "    return gpd.GeoDataFrame({'index_sw': [index_sw], \n",
    "                             'geometry': [trimmed],\n",
    "                             'changed': changed})        \n",
    "    \n",
    "\n",
    "\n",
    "fixed_sw = overlapping.groupby('index_sw').apply(trim_sidewalk).unstack()\n",
    "fixed_sw.columns = fixed_sw.columns.get_level_values(0)\n",
    "fixed_sw.index.name = ''\n",
    "\n",
    "# Update the geometry column for sidewalks that intersected\n",
    "sidewalks.update(fixed_sw)\n",
    "\n",
    "fixed_sw.head()"
   ]
  },
  {
   "cell_type": "code",
   "execution_count": 74,
   "metadata": {
    "collapsed": false
   },
   "outputs": [
    {
     "name": "stdout",
     "output_type": "stream",
     "text": [
      "Intersecting:  (1805, 4)\n",
      "Changed:  (4492, 3)\n",
      "Total:  (4931, 3)\n"
     ]
    }
   ],
   "source": [
    "# Report how many are still 'intersecting', i.e. would've been cut into too small of pieces\n",
    "intersecting = gpd.sjoin(sidewalks[['index', 'geometry']], \n",
    "                         streets[['index', 'geometry']], \n",
    "                         how='inner', \n",
    "                         op='intersects', \n",
    "                         lsuffix='sw', \n",
    "                         rsuffix='st')\n",
    "\n",
    "changed = gpd.GeoDataFrame(fixed_sw[fixed_sw['changed']])\n",
    "\n",
    "print 'Intersecting: ', intersecting.shape\n",
    "print 'Changed: ', changed.shape\n",
    "print 'Total: ', fixed_sw.shape"
   ]
  },
  {
   "cell_type": "code",
   "execution_count": 78,
   "metadata": {
    "collapsed": false
   },
   "outputs": [],
   "source": [
    "remaining.to_file('remaining.shp')\n",
    "changed['changed'] = changed['changed'].astype(int)\n",
    "fixed_sw['changed'] = fixed_sw['changed'].astype(int)\n",
    "changed.to_file('changed.shp')\n",
    "gpd.GeoDataFrame(fixed_sw).to_file('total.shp')"
   ]
  },
  {
   "cell_type": "markdown",
   "metadata": {},
   "source": [
    "# Create street intersections table"
   ]
  },
  {
   "cell_type": "code",
   "execution_count": 10,
   "metadata": {
    "collapsed": false
   },
   "outputs": [],
   "source": [
    "# Create 'intersections' table\n",
    "\n",
    "st_ends = gpd.GeoDataFrame(pd.concat([streets.geometry.apply(lambda l: geometry.Point(l.coords[0])),\n",
    "                           streets.geometry.apply(lambda l: geometry.Point(l.coords[0]))]))\n",
    "st_ends['COMPKEY'] = streets['COMPKEY']\n",
    "\n",
    "st_ends['wkt'] = st_ends['geometry'].apply(lambda l: l.wkt)\n",
    "intersections = pd.DataFrame(st_ends.groupby('wkt').size().rename('streets'))\n",
    "intersections.reset_index(level=0, inplace=True)\n",
    "intersections = gpd.GeoDataFrame(pd.merge(intersections, st_ends[['wkt', 'geometry']], on='wkt'))\n",
    "intersections = intersections[['geometry', 'streets']]"
   ]
  },
  {
   "cell_type": "code",
   "execution_count": 11,
   "metadata": {
    "collapsed": false
   },
   "outputs": [
    {
     "data": {
      "text/html": [
       "<div>\n",
       "<table border=\"1\" class=\"dataframe\">\n",
       "  <thead>\n",
       "    <tr style=\"text-align: right;\">\n",
       "      <th></th>\n",
       "      <th>geometry</th>\n",
       "      <th>streets</th>\n",
       "    </tr>\n",
       "  </thead>\n",
       "  <tbody>\n",
       "    <tr>\n",
       "      <th>0</th>\n",
       "      <td>POINT (1246804.081945509 245042.2253269702)</td>\n",
       "      <td>4</td>\n",
       "    </tr>\n",
       "    <tr>\n",
       "      <th>1</th>\n",
       "      <td>POINT (1246804.081945509 245042.2253269702)</td>\n",
       "      <td>4</td>\n",
       "    </tr>\n",
       "    <tr>\n",
       "      <th>2</th>\n",
       "      <td>POINT (1246804.081945509 245042.2253269702)</td>\n",
       "      <td>4</td>\n",
       "    </tr>\n",
       "    <tr>\n",
       "      <th>3</th>\n",
       "      <td>POINT (1246804.081945509 245042.2253269702)</td>\n",
       "      <td>4</td>\n",
       "    </tr>\n",
       "    <tr>\n",
       "      <th>4</th>\n",
       "      <td>POINT (1249026.115867794 213823.8997910023)</td>\n",
       "      <td>2</td>\n",
       "    </tr>\n",
       "    <tr>\n",
       "      <th>5</th>\n",
       "      <td>POINT (1249026.115867794 213823.8997910023)</td>\n",
       "      <td>2</td>\n",
       "    </tr>\n",
       "    <tr>\n",
       "      <th>6</th>\n",
       "      <td>POINT (1249067.764763832 214423.4034076184)</td>\n",
       "      <td>4</td>\n",
       "    </tr>\n",
       "    <tr>\n",
       "      <th>7</th>\n",
       "      <td>POINT (1249067.764763832 214423.4034076184)</td>\n",
       "      <td>4</td>\n",
       "    </tr>\n",
       "    <tr>\n",
       "      <th>8</th>\n",
       "      <td>POINT (1249067.764763832 214423.4034076184)</td>\n",
       "      <td>4</td>\n",
       "    </tr>\n",
       "    <tr>\n",
       "      <th>9</th>\n",
       "      <td>POINT (1249067.764763832 214423.4034076184)</td>\n",
       "      <td>4</td>\n",
       "    </tr>\n",
       "    <tr>\n",
       "      <th>10</th>\n",
       "      <td>POINT (1249256.945180029 213623.775118798)</td>\n",
       "      <td>2</td>\n",
       "    </tr>\n",
       "    <tr>\n",
       "      <th>11</th>\n",
       "      <td>POINT (1249256.945180029 213623.775118798)</td>\n",
       "      <td>2</td>\n",
       "    </tr>\n",
       "    <tr>\n",
       "      <th>12</th>\n",
       "      <td>POINT (1249272.682268038 213985.0146711618)</td>\n",
       "      <td>2</td>\n",
       "    </tr>\n",
       "    <tr>\n",
       "      <th>13</th>\n",
       "      <td>POINT (1249272.682268038 213985.0146711618)</td>\n",
       "      <td>2</td>\n",
       "    </tr>\n",
       "    <tr>\n",
       "      <th>14</th>\n",
       "      <td>POINT (1249455.628316224 245123.7899990529)</td>\n",
       "      <td>2</td>\n",
       "    </tr>\n",
       "    <tr>\n",
       "      <th>15</th>\n",
       "      <td>POINT (1249455.628316224 245123.7899990529)</td>\n",
       "      <td>2</td>\n",
       "    </tr>\n",
       "    <tr>\n",
       "      <th>16</th>\n",
       "      <td>POINT (1249608.985884383 245046.9838549644)</td>\n",
       "      <td>2</td>\n",
       "    </tr>\n",
       "    <tr>\n",
       "      <th>17</th>\n",
       "      <td>POINT (1249608.985884383 245046.9838549644)</td>\n",
       "      <td>2</td>\n",
       "    </tr>\n",
       "    <tr>\n",
       "      <th>18</th>\n",
       "      <td>POINT (1249648.231196418 214434.6405276209)</td>\n",
       "      <td>2</td>\n",
       "    </tr>\n",
       "    <tr>\n",
       "      <th>19</th>\n",
       "      <td>POINT (1249648.231196418 214434.6405276209)</td>\n",
       "      <td>2</td>\n",
       "    </tr>\n",
       "    <tr>\n",
       "      <th>20</th>\n",
       "      <td>POINT (1249744.353820518 213491.5941266567)</td>\n",
       "      <td>2</td>\n",
       "    </tr>\n",
       "    <tr>\n",
       "      <th>21</th>\n",
       "      <td>POINT (1249744.353820518 213491.5941266567)</td>\n",
       "      <td>2</td>\n",
       "    </tr>\n",
       "    <tr>\n",
       "      <th>22</th>\n",
       "      <td>POINT (1249798.556700572 214488.7410076857)</td>\n",
       "      <td>4</td>\n",
       "    </tr>\n",
       "    <tr>\n",
       "      <th>23</th>\n",
       "      <td>POINT (1249798.556700572 214488.7410076857)</td>\n",
       "      <td>4</td>\n",
       "    </tr>\n",
       "    <tr>\n",
       "      <th>24</th>\n",
       "      <td>POINT (1249798.556700572 214488.7410076857)</td>\n",
       "      <td>4</td>\n",
       "    </tr>\n",
       "    <tr>\n",
       "      <th>25</th>\n",
       "      <td>POINT (1249798.556700572 214488.7410076857)</td>\n",
       "      <td>4</td>\n",
       "    </tr>\n",
       "    <tr>\n",
       "      <th>26</th>\n",
       "      <td>POINT (1249805.500188589 214115.6995992959)</td>\n",
       "      <td>2</td>\n",
       "    </tr>\n",
       "    <tr>\n",
       "      <th>27</th>\n",
       "      <td>POINT (1249805.500188589 214115.6995992959)</td>\n",
       "      <td>2</td>\n",
       "    </tr>\n",
       "    <tr>\n",
       "      <th>28</th>\n",
       "      <td>POINT (1249981.55394876 214561.6743837595)</td>\n",
       "      <td>2</td>\n",
       "    </tr>\n",
       "    <tr>\n",
       "      <th>29</th>\n",
       "      <td>POINT (1249981.55394876 214561.6743837595)</td>\n",
       "      <td>2</td>\n",
       "    </tr>\n",
       "    <tr>\n",
       "      <th>...</th>\n",
       "      <td>...</td>\n",
       "      <td>...</td>\n",
       "    </tr>\n",
       "    <tr>\n",
       "      <th>67948</th>\n",
       "      <td>POINT (1297841.348173767 180260.2105406225)</td>\n",
       "      <td>4</td>\n",
       "    </tr>\n",
       "    <tr>\n",
       "      <th>67949</th>\n",
       "      <td>POINT (1297841.348173767 180260.2105406225)</td>\n",
       "      <td>4</td>\n",
       "    </tr>\n",
       "    <tr>\n",
       "      <th>67950</th>\n",
       "      <td>POINT (1297851.874637783 180822.2590532005)</td>\n",
       "      <td>4</td>\n",
       "    </tr>\n",
       "    <tr>\n",
       "      <th>67951</th>\n",
       "      <td>POINT (1297851.874637783 180822.2590532005)</td>\n",
       "      <td>4</td>\n",
       "    </tr>\n",
       "    <tr>\n",
       "      <th>67952</th>\n",
       "      <td>POINT (1297851.874637783 180822.2590532005)</td>\n",
       "      <td>4</td>\n",
       "    </tr>\n",
       "    <tr>\n",
       "      <th>67953</th>\n",
       "      <td>POINT (1297851.874637783 180822.2590532005)</td>\n",
       "      <td>4</td>\n",
       "    </tr>\n",
       "    <tr>\n",
       "      <th>67954</th>\n",
       "      <td>POINT (1297865.179981798 181135.3288775235)</td>\n",
       "      <td>2</td>\n",
       "    </tr>\n",
       "    <tr>\n",
       "      <th>67955</th>\n",
       "      <td>POINT (1297865.179981798 181135.3288775235)</td>\n",
       "      <td>2</td>\n",
       "    </tr>\n",
       "    <tr>\n",
       "      <th>67956</th>\n",
       "      <td>POINT (1297891.016781822 178910.9016112536)</td>\n",
       "      <td>2</td>\n",
       "    </tr>\n",
       "    <tr>\n",
       "      <th>67957</th>\n",
       "      <td>POINT (1297891.016781822 178910.9016112536)</td>\n",
       "      <td>2</td>\n",
       "    </tr>\n",
       "    <tr>\n",
       "      <th>67958</th>\n",
       "      <td>POINT (1297957.69300589 179232.660843581)</td>\n",
       "      <td>4</td>\n",
       "    </tr>\n",
       "    <tr>\n",
       "      <th>67959</th>\n",
       "      <td>POINT (1297957.69300589 179232.660843581)</td>\n",
       "      <td>4</td>\n",
       "    </tr>\n",
       "    <tr>\n",
       "      <th>67960</th>\n",
       "      <td>POINT (1297957.69300589 179232.660843581)</td>\n",
       "      <td>4</td>\n",
       "    </tr>\n",
       "    <tr>\n",
       "      <th>67961</th>\n",
       "      <td>POINT (1297957.69300589 179232.660843581)</td>\n",
       "      <td>4</td>\n",
       "    </tr>\n",
       "    <tr>\n",
       "      <th>67962</th>\n",
       "      <td>POINT (1298075.549262017 180825.0481732041)</td>\n",
       "      <td>4</td>\n",
       "    </tr>\n",
       "    <tr>\n",
       "      <th>67963</th>\n",
       "      <td>POINT (1298075.549262017 180825.0481732041)</td>\n",
       "      <td>4</td>\n",
       "    </tr>\n",
       "    <tr>\n",
       "      <th>67964</th>\n",
       "      <td>POINT (1298075.549262017 180825.0481732041)</td>\n",
       "      <td>4</td>\n",
       "    </tr>\n",
       "    <tr>\n",
       "      <th>67965</th>\n",
       "      <td>POINT (1298075.549262017 180825.0481732041)</td>\n",
       "      <td>4</td>\n",
       "    </tr>\n",
       "    <tr>\n",
       "      <th>67966</th>\n",
       "      <td>POINT (1298160.034894094 180039.586668402)</td>\n",
       "      <td>4</td>\n",
       "    </tr>\n",
       "    <tr>\n",
       "      <th>67967</th>\n",
       "      <td>POINT (1298160.034894094 180039.586668402)</td>\n",
       "      <td>4</td>\n",
       "    </tr>\n",
       "    <tr>\n",
       "      <th>67968</th>\n",
       "      <td>POINT (1298160.034894094 180039.586668402)</td>\n",
       "      <td>4</td>\n",
       "    </tr>\n",
       "    <tr>\n",
       "      <th>67969</th>\n",
       "      <td>POINT (1298160.034894094 180039.586668402)</td>\n",
       "      <td>4</td>\n",
       "    </tr>\n",
       "    <tr>\n",
       "      <th>67970</th>\n",
       "      <td>POINT (1298196.638542131 178274.4469545931)</td>\n",
       "      <td>2</td>\n",
       "    </tr>\n",
       "    <tr>\n",
       "      <th>67971</th>\n",
       "      <td>POINT (1298196.638542131 178274.4469545931)</td>\n",
       "      <td>2</td>\n",
       "    </tr>\n",
       "    <tr>\n",
       "      <th>67972</th>\n",
       "      <td>POINT (1298240.45319818 179213.8571315557)</td>\n",
       "      <td>4</td>\n",
       "    </tr>\n",
       "    <tr>\n",
       "      <th>67973</th>\n",
       "      <td>POINT (1298240.45319818 179213.8571315557)</td>\n",
       "      <td>4</td>\n",
       "    </tr>\n",
       "    <tr>\n",
       "      <th>67974</th>\n",
       "      <td>POINT (1298240.45319818 179213.8571315557)</td>\n",
       "      <td>4</td>\n",
       "    </tr>\n",
       "    <tr>\n",
       "      <th>67975</th>\n",
       "      <td>POINT (1298240.45319818 179213.8571315557)</td>\n",
       "      <td>4</td>\n",
       "    </tr>\n",
       "    <tr>\n",
       "      <th>67976</th>\n",
       "      <td>POINT (1298251.854926199 178042.5808423609)</td>\n",
       "      <td>2</td>\n",
       "    </tr>\n",
       "    <tr>\n",
       "      <th>67977</th>\n",
       "      <td>POINT (1298251.854926199 178042.5808423609)</td>\n",
       "      <td>2</td>\n",
       "    </tr>\n",
       "  </tbody>\n",
       "</table>\n",
       "<p>67978 rows × 2 columns</p>\n",
       "</div>"
      ],
      "text/plain": [
       "                                          geometry  streets\n",
       "0      POINT (1246804.081945509 245042.2253269702)        4\n",
       "1      POINT (1246804.081945509 245042.2253269702)        4\n",
       "2      POINT (1246804.081945509 245042.2253269702)        4\n",
       "3      POINT (1246804.081945509 245042.2253269702)        4\n",
       "4      POINT (1249026.115867794 213823.8997910023)        2\n",
       "5      POINT (1249026.115867794 213823.8997910023)        2\n",
       "6      POINT (1249067.764763832 214423.4034076184)        4\n",
       "7      POINT (1249067.764763832 214423.4034076184)        4\n",
       "8      POINT (1249067.764763832 214423.4034076184)        4\n",
       "9      POINT (1249067.764763832 214423.4034076184)        4\n",
       "10      POINT (1249256.945180029 213623.775118798)        2\n",
       "11      POINT (1249256.945180029 213623.775118798)        2\n",
       "12     POINT (1249272.682268038 213985.0146711618)        2\n",
       "13     POINT (1249272.682268038 213985.0146711618)        2\n",
       "14     POINT (1249455.628316224 245123.7899990529)        2\n",
       "15     POINT (1249455.628316224 245123.7899990529)        2\n",
       "16     POINT (1249608.985884383 245046.9838549644)        2\n",
       "17     POINT (1249608.985884383 245046.9838549644)        2\n",
       "18     POINT (1249648.231196418 214434.6405276209)        2\n",
       "19     POINT (1249648.231196418 214434.6405276209)        2\n",
       "20     POINT (1249744.353820518 213491.5941266567)        2\n",
       "21     POINT (1249744.353820518 213491.5941266567)        2\n",
       "22     POINT (1249798.556700572 214488.7410076857)        4\n",
       "23     POINT (1249798.556700572 214488.7410076857)        4\n",
       "24     POINT (1249798.556700572 214488.7410076857)        4\n",
       "25     POINT (1249798.556700572 214488.7410076857)        4\n",
       "26     POINT (1249805.500188589 214115.6995992959)        2\n",
       "27     POINT (1249805.500188589 214115.6995992959)        2\n",
       "28      POINT (1249981.55394876 214561.6743837595)        2\n",
       "29      POINT (1249981.55394876 214561.6743837595)        2\n",
       "...                                            ...      ...\n",
       "67948  POINT (1297841.348173767 180260.2105406225)        4\n",
       "67949  POINT (1297841.348173767 180260.2105406225)        4\n",
       "67950  POINT (1297851.874637783 180822.2590532005)        4\n",
       "67951  POINT (1297851.874637783 180822.2590532005)        4\n",
       "67952  POINT (1297851.874637783 180822.2590532005)        4\n",
       "67953  POINT (1297851.874637783 180822.2590532005)        4\n",
       "67954  POINT (1297865.179981798 181135.3288775235)        2\n",
       "67955  POINT (1297865.179981798 181135.3288775235)        2\n",
       "67956  POINT (1297891.016781822 178910.9016112536)        2\n",
       "67957  POINT (1297891.016781822 178910.9016112536)        2\n",
       "67958    POINT (1297957.69300589 179232.660843581)        4\n",
       "67959    POINT (1297957.69300589 179232.660843581)        4\n",
       "67960    POINT (1297957.69300589 179232.660843581)        4\n",
       "67961    POINT (1297957.69300589 179232.660843581)        4\n",
       "67962  POINT (1298075.549262017 180825.0481732041)        4\n",
       "67963  POINT (1298075.549262017 180825.0481732041)        4\n",
       "67964  POINT (1298075.549262017 180825.0481732041)        4\n",
       "67965  POINT (1298075.549262017 180825.0481732041)        4\n",
       "67966   POINT (1298160.034894094 180039.586668402)        4\n",
       "67967   POINT (1298160.034894094 180039.586668402)        4\n",
       "67968   POINT (1298160.034894094 180039.586668402)        4\n",
       "67969   POINT (1298160.034894094 180039.586668402)        4\n",
       "67970  POINT (1298196.638542131 178274.4469545931)        2\n",
       "67971  POINT (1298196.638542131 178274.4469545931)        2\n",
       "67972   POINT (1298240.45319818 179213.8571315557)        4\n",
       "67973   POINT (1298240.45319818 179213.8571315557)        4\n",
       "67974   POINT (1298240.45319818 179213.8571315557)        4\n",
       "67975   POINT (1298240.45319818 179213.8571315557)        4\n",
       "67976  POINT (1298251.854926199 178042.5808423609)        2\n",
       "67977  POINT (1298251.854926199 178042.5808423609)        2\n",
       "\n",
       "[67978 rows x 2 columns]"
      ]
     },
     "execution_count": 11,
     "metadata": {},
     "output_type": "execute_result"
    }
   ],
   "source": [
    "intersections"
   ]
  },
  {
   "cell_type": "code",
   "execution_count": 12,
   "metadata": {
    "collapsed": false
   },
   "outputs": [],
   "source": [
    "hull = geometry.MultiLineString(list(streets.geometry)).convex_hull.exterior.coords\n",
    "hull_lines = [geometry.LineString([hull[i], hull[i + 1]]) for i in range(len(hull) - 1)]\n",
    "streets_and_hull = list(streets.geometry) + hull_lines\n",
    "\n",
    "blocks = gpd.GeoDataFrame(geometry=list(ops.polygonize(streets_and_hull)))"
   ]
  },
  {
   "cell_type": "code",
   "execution_count": 13,
   "metadata": {
    "collapsed": false
   },
   "outputs": [],
   "source": [
    "blocks.crs = streets0.crs\n",
    "blocks = blocks.to_crs({'init': 'epsg:4326'})\n",
    "blocks.to_file('./blocks.shp')"
   ]
  },
  {
   "cell_type": "code",
   "execution_count": 14,
   "metadata": {
    "collapsed": false
   },
   "outputs": [],
   "source": [
    "polys, dangles, cuts, invalid = [gpd.GeoDataFrame(geometry=list(result)) for result in ops.polygonize_full(streets_and_hull)]"
   ]
  },
  {
   "cell_type": "code",
   "execution_count": 15,
   "metadata": {
    "collapsed": false
   },
   "outputs": [],
   "source": [
    "dangles.crs = streets0.crs\n",
    "cuts.crs = streets0.crs\n",
    "invalid.crs = streets0.crs\n",
    "\n",
    "dangles.to_crs({'init': 'epsg:4326'})\n",
    "cuts.to_crs({'init': 'epsg:4326'})\n",
    "invalid.to_crs({'init': 'epsg:4326'})\n",
    "\n",
    "dangles.to_file('./dangles.shp')\n",
    "cuts.to_file('./cuts.shp')\n",
    "invalid.to_file('./invalid.shp')"
   ]
  },
  {
   "cell_type": "code",
   "execution_count": 16,
   "metadata": {
    "collapsed": false
   },
   "outputs": [
    {
     "data": {
      "text/plain": [
       "<generator object polygonize at 0x7f4a8cb9ce10>"
      ]
     },
     "execution_count": 16,
     "metadata": {},
     "output_type": "execute_result"
    }
   ],
   "source": [
    "ops.polygonize(ops.cascaded_union(list(invalid.geometry)))"
   ]
  },
  {
   "cell_type": "code",
   "execution_count": 17,
   "metadata": {
    "collapsed": false
   },
   "outputs": [
    {
     "data": {
      "text/plain": [
       "(32, 1)"
      ]
     },
     "execution_count": 17,
     "metadata": {},
     "output_type": "execute_result"
    }
   ],
   "source": [
    "invalid.shape"
   ]
  },
  {
   "cell_type": "code",
   "execution_count": 18,
   "metadata": {
    "collapsed": false
   },
   "outputs": [
    {
     "ename": "TypeError",
     "evalue": "list indices must be integers, not str",
     "output_type": "error",
     "traceback": [
      "\u001b[1;31m---------------------------------------------------------------------------\u001b[0m",
      "\u001b[1;31mTypeError\u001b[0m                                 Traceback (most recent call last)",
      "\u001b[1;32m<ipython-input-18-49e33fd4a755>\u001b[0m in \u001b[0;36m<module>\u001b[1;34m()\u001b[0m\n\u001b[0;32m      1\u001b[0m \u001b[0minvalid\u001b[0m\u001b[1;33m[\u001b[0m\u001b[1;34m'wkt'\u001b[0m\u001b[1;33m]\u001b[0m \u001b[1;33m=\u001b[0m \u001b[0minvalid\u001b[0m\u001b[1;33m.\u001b[0m\u001b[0mgeometry\u001b[0m\u001b[1;33m.\u001b[0m\u001b[0mapply\u001b[0m\u001b[1;33m(\u001b[0m\u001b[1;32mlambda\u001b[0m \u001b[0ml\u001b[0m\u001b[1;33m:\u001b[0m \u001b[0ml\u001b[0m\u001b[1;33m.\u001b[0m\u001b[0mwkt\u001b[0m\u001b[1;33m)\u001b[0m\u001b[1;33m\u001b[0m\u001b[0m\n\u001b[1;32m----> 2\u001b[1;33m \u001b[0mstreets_and_hull\u001b[0m\u001b[1;33m[\u001b[0m\u001b[1;34m'wkt'\u001b[0m\u001b[1;33m]\u001b[0m\u001b[1;33m.\u001b[0m\u001b[0misin\u001b[0m\u001b[1;33m(\u001b[0m\u001b[0minvalid\u001b[0m\u001b[1;33m)\u001b[0m\u001b[1;33m\u001b[0m\u001b[0m\n\u001b[0m",
      "\u001b[1;31mTypeError\u001b[0m: list indices must be integers, not str"
     ]
    }
   ],
   "source": [
    "invalid['wkt'] = invalid.geometry.apply(lambda l: l.wkt)\n",
    "streets_and_hull['wkt'].isin(invalid)"
   ]
  },
  {
   "cell_type": "code",
   "execution_count": null,
   "metadata": {
    "collapsed": false
   },
   "outputs": [],
   "source": [
    "streets_and_hull"
   ]
  },
  {
   "cell_type": "code",
   "execution_count": null,
   "metadata": {
    "collapsed": true
   },
   "outputs": [],
   "source": []
  }
 ],
 "metadata": {
  "kernelspec": {
   "display_name": "Python 2",
   "language": "python",
   "name": "python2"
  },
  "language_info": {
   "codemirror_mode": {
    "name": "ipython",
    "version": 2
   },
   "file_extension": ".py",
   "mimetype": "text/x-python",
   "name": "python",
   "nbconvert_exporter": "python",
   "pygments_lexer": "ipython2",
   "version": "2.7.11+"
  }
 },
 "nbformat": 4,
 "nbformat_minor": 0
}
