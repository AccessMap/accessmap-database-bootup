{
 "cells": [
  {
   "cell_type": "code",
   "execution_count": 1,
   "metadata": {
    "collapsed": true
   },
   "outputs": [],
   "source": [
    "import geopandas as gpd\n",
    "import numpy as np\n",
    "import pandas as pd\n",
    "from shapely import geometry, ops\n",
    "import matplotlib.pyplot as plt\n",
    "\n",
    "%matplotlib inline"
   ]
  },
  {
   "cell_type": "markdown",
   "metadata": {},
   "source": [
    "# Read in data from shapefiles"
   ]
  },
  {
   "cell_type": "code",
   "execution_count": 2,
   "metadata": {
    "collapsed": false
   },
   "outputs": [],
   "source": [
    "# Read in the datasets\n",
    "streets0 = gpd.read_file('./sourcedata/streets/StatePlane/Street_Network_Database.shp')\n",
    "sidewalks0 = gpd.read_file('./sourcedata/sidewalks/Sidewalks/Sidewalks.shp')"
   ]
  },
  {
   "cell_type": "markdown",
   "metadata": {},
   "source": [
    "# Standardize datasets"
   ]
  },
  {
   "cell_type": "code",
   "execution_count": 3,
   "metadata": {
    "collapsed": false
   },
   "outputs": [],
   "source": [
    "# Strip metadata from new sidewalks/streets tables\n",
    "streets = streets0.copy()[['COMPKEY', 'geometry']]\n",
    "\n",
    "# Convert all sidewalks to LineStrings (also filters out invalid geometries)\n",
    "sidewalk_cols = ['COMPKEY', 'SEGKEY', 'CURBRAMPHI', 'CURBRAMPLO', 'geometry']\n",
    "sidewalks = sidewalks0[sidewalks0.geometry.type == 'LineString'].copy()[sidewalk_cols]\n",
    "\n",
    "newrows = []\n",
    "for i, row in sidewalks0[sidewalks0.geometry.type == 'MultiLineString'].iterrows():\n",
    "    for geom in row.geometry:\n",
    "        newrows.append(row.copy()[sidewalk_cols])\n",
    "        newrows[-1].geometry = geom\n",
    "sidewalks = pd.concat([sidewalks, gpd.GeoDataFrame(newrows)])\n",
    "\n",
    "sidewalks.rename(columns={'CURBRAMPHI': 'curbramp_end', 'CURBRAMPLO': 'curbramp_start'}, inplace=True)\n",
    "\n",
    "# This created duplicate indices, which currently have no meaning - reset the index\n",
    "# and create a column for it\n",
    "sidewalks.reset_index(drop=True, inplace=True)\n",
    "sidewalks.reset_index(inplace=True)\n",
    "sidewalks.rename(columns={'index': 'sidewalk_id'}, inplace=True)\n",
    "streets.reset_index(inplace=True)\n",
    "streets.rename(columns={'index': 'street_id'}, inplace=True)\n",
    "\n",
    "# Dedupe sidewalk lines - for some reason this dataset has duplicated shapes\n",
    "# .drop_duplicates didn't work directly on the geometry column, so need a\n",
    "# temporary WKT text column\n",
    "sidewalks['wkt'] = sidewalks.geometry.apply(lambda row: row.wkt)\n",
    "sidewalks.drop_duplicates(['wkt'], inplace=True)\n",
    "sidewalks.drop('wkt', 1, inplace=True)\n",
    "\n",
    "# CRS is forgotten during some operations, re-copy\n",
    "streets.crs = streets0.crs\n",
    "sidewalks.crs = sidewalks0.crs"
   ]
  },
  {
   "cell_type": "code",
   "execution_count": 4,
   "metadata": {
    "collapsed": false
   },
   "outputs": [],
   "source": [
    "# Reproject to appropriate NAD83 in meters\n",
    "streets.to_crs({'init': 'epsg:26910'}, inplace=True)\n",
    "sidewalks.to_crs({'init': 'epsg:26910'}, inplace=True)"
   ]
  },
  {
   "cell_type": "code",
   "execution_count": 5,
   "metadata": {
    "collapsed": true
   },
   "outputs": [],
   "source": [
    "# Write to file at this point\n",
    "streets.to_file('output/streets.shp')\n",
    "sidewalks.to_file('output/sidewalks.shp')"
   ]
  },
  {
   "cell_type": "code",
   "execution_count": 6,
   "metadata": {
    "collapsed": false
   },
   "outputs": [
    {
     "data": {
      "text/html": [
       "<div>\n",
       "<table border=\"1\" class=\"dataframe\">\n",
       "  <thead>\n",
       "    <tr style=\"text-align: right;\">\n",
       "      <th></th>\n",
       "      <th>geometry</th>\n",
       "      <th>SW_COMPKEY</th>\n",
       "      <th>endtype</th>\n",
       "    </tr>\n",
       "  </thead>\n",
       "  <tbody>\n",
       "    <tr>\n",
       "      <th>0</th>\n",
       "      <td>POINT (553168.6489468224 5286337.994271296)</td>\n",
       "      <td>330518</td>\n",
       "      <td>end</td>\n",
       "    </tr>\n",
       "    <tr>\n",
       "      <th>7</th>\n",
       "      <td>POINT (548122.4972355528 5279683.624783031)</td>\n",
       "      <td>330261</td>\n",
       "      <td>end</td>\n",
       "    </tr>\n",
       "    <tr>\n",
       "      <th>10</th>\n",
       "      <td>POINT (551566.3801728879 5263993.261740751)</td>\n",
       "      <td>330341</td>\n",
       "      <td>end</td>\n",
       "    </tr>\n",
       "    <tr>\n",
       "      <th>22</th>\n",
       "      <td>POINT (551571.5606561413 5264004.629260025)</td>\n",
       "      <td>330342</td>\n",
       "      <td>end</td>\n",
       "    </tr>\n",
       "    <tr>\n",
       "      <th>24</th>\n",
       "      <td>POINT (547933.1957547202 5279683.855175902)</td>\n",
       "      <td>330262</td>\n",
       "      <td>end</td>\n",
       "    </tr>\n",
       "  </tbody>\n",
       "</table>\n",
       "</div>"
      ],
      "text/plain": [
       "                                       geometry  SW_COMPKEY endtype\n",
       "0   POINT (553168.6489468224 5286337.994271296)      330518     end\n",
       "7   POINT (548122.4972355528 5279683.624783031)      330261     end\n",
       "10  POINT (551566.3801728879 5263993.261740751)      330341     end\n",
       "22  POINT (551571.5606561413 5264004.629260025)      330342     end\n",
       "24  POINT (547933.1957547202 5279683.855175902)      330262     end"
      ]
     },
     "execution_count": 6,
     "metadata": {},
     "output_type": "execute_result"
    }
   ],
   "source": [
    "# Create curbramps table based on sidewalks\n",
    "curbend = sidewalks[sidewalks['curbramp_end'] == 'Y']\n",
    "curbstart = sidewalks[sidewalks['curbramp_start'] == 'Y']\n",
    "\n",
    "curbramps = gpd.GeoDataFrame(pd.concat([curbend.geometry.apply(lambda x: geometry.Point(x.coords[-1])), \n",
    "                                        curbstart.geometry.apply(lambda x: geometry.Point(x.coords[0]))]))\n",
    "\n",
    "curbramps['SW_COMPKEY'] = pd.concat([curbend['COMPKEY'], curbstart['COMPKEY']])\n",
    "curbramps['endtype'] = curbend.shape[0] * ['end'] + curbstart.shape[0] * ['start']\n",
    "\n",
    "curbramps.head()"
   ]
  },
  {
   "cell_type": "code",
   "execution_count": 7,
   "metadata": {
    "collapsed": false
   },
   "outputs": [
    {
     "name": "stdout",
     "output_type": "stream",
     "text": [
      "(45569, 6)\n",
      "(45533, 6)\n"
     ]
    }
   ],
   "source": [
    "# Remove sidewalks that are almost exactly their streets - this happens when bad 'width'\n",
    "# data was used to extrapolate sidewalks\n",
    "\n",
    "print sidewalks.shape\n",
    "\n",
    "sdw_st = pd.merge(sidewalks, streets, left_on='SEGKEY', right_on='COMPKEY')\n",
    "\n",
    "def geoms_differ(geoseries, tol=0.1):\n",
    "    sidewalk = geoseries['geometry_x']\n",
    "    street = geoseries['geometry_y']\n",
    "    \n",
    "    sidewalk_points = [geometry.Point(coord) for coord in sidewalk.coords]\n",
    "    \n",
    "    distances = [point.distance(street) for point in sidewalk_points]\n",
    "    \n",
    "    if sum(distances) > tol:\n",
    "        return True\n",
    "    else:\n",
    "        return False\n",
    "\n",
    "sdw_st_clean = sdw_st[sdw_st.apply(geoms_differ, axis=1)]\n",
    "sidewalks = sidewalks[sidewalks['COMPKEY'].isin(sdw_st_clean['COMPKEY_x'])]\n",
    "\n",
    "print sidewalks.shape"
   ]
  },
  {
   "cell_type": "markdown",
   "metadata": {},
   "source": [
    "# Trim sidewalk lines that intersect streets"
   ]
  },
  {
   "cell_type": "code",
   "execution_count": 8,
   "metadata": {
    "collapsed": false,
    "scrolled": false
   },
   "outputs": [
    {
     "name": "stdout",
     "output_type": "stream",
     "text": [
      "(6541, 5)\n"
     ]
    },
    {
     "data": {
      "text/html": [
       "<div>\n",
       "<table border=\"1\" class=\"dataframe\">\n",
       "  <thead>\n",
       "    <tr style=\"text-align: right;\">\n",
       "      <th></th>\n",
       "      <th>sidewalk_id</th>\n",
       "      <th>geometry</th>\n",
       "      <th>index_st</th>\n",
       "      <th>street_id</th>\n",
       "      <th>geometry_st</th>\n",
       "    </tr>\n",
       "  </thead>\n",
       "  <tbody>\n",
       "    <tr>\n",
       "      <th>0</th>\n",
       "      <td>0</td>\n",
       "      <td>LINESTRING (553093.1855578402 5286337.77174694...</td>\n",
       "      <td>33635</td>\n",
       "      <td>33635</td>\n",
       "      <td>LINESTRING (553174.0424251509 5286141.99908964...</td>\n",
       "    </tr>\n",
       "    <tr>\n",
       "      <th>8315</th>\n",
       "      <td>8315</td>\n",
       "      <td>LINESTRING (553167.6925544755 5286145.78556960...</td>\n",
       "      <td>33635</td>\n",
       "      <td>33635</td>\n",
       "      <td>LINESTRING (553174.0424251509 5286141.99908964...</td>\n",
       "    </tr>\n",
       "    <tr>\n",
       "      <th>10</th>\n",
       "      <td>10</td>\n",
       "      <td>LINESTRING (551370.3514823434 5264082.59666747...</td>\n",
       "      <td>27780</td>\n",
       "      <td>27780</td>\n",
       "      <td>LINESTRING (551514.4555440756 5264023.54738159...</td>\n",
       "    </tr>\n",
       "    <tr>\n",
       "      <th>3135</th>\n",
       "      <td>3135</td>\n",
       "      <td>LINESTRING (551373.4817165736 5263995.60772028...</td>\n",
       "      <td>27780</td>\n",
       "      <td>27780</td>\n",
       "      <td>LINESTRING (551514.4555440756 5264023.54738159...</td>\n",
       "    </tr>\n",
       "    <tr>\n",
       "      <th>22</th>\n",
       "      <td>22</td>\n",
       "      <td>LINESTRING (551375.5319602233 5264093.96418780...</td>\n",
       "      <td>27842</td>\n",
       "      <td>27842</td>\n",
       "      <td>LINESTRING (551563.4413877537 5264009.86178889...</td>\n",
       "    </tr>\n",
       "    <tr>\n",
       "      <th>22</th>\n",
       "      <td>22</td>\n",
       "      <td>LINESTRING (551375.5319602233 5264093.96418780...</td>\n",
       "      <td>31989</td>\n",
       "      <td>31989</td>\n",
       "      <td>LINESTRING (551600.0804006804 5264232.40211658...</td>\n",
       "    </tr>\n",
       "    <tr>\n",
       "      <th>33</th>\n",
       "      <td>33</td>\n",
       "      <td>LINESTRING (554257.7202917113 5282780.54905245...</td>\n",
       "      <td>20070</td>\n",
       "      <td>20070</td>\n",
       "      <td>LINESTRING (554182.331759876 5282778.620504319...</td>\n",
       "    </tr>\n",
       "    <tr>\n",
       "      <th>10985</th>\n",
       "      <td>10985</td>\n",
       "      <td>LINESTRING (554278.6501475611 5282787.30515523...</td>\n",
       "      <td>20070</td>\n",
       "      <td>20070</td>\n",
       "      <td>LINESTRING (554182.331759876 5282778.620504319...</td>\n",
       "    </tr>\n",
       "    <tr>\n",
       "      <th>34</th>\n",
       "      <td>34</td>\n",
       "      <td>LINESTRING (551262.9286776893 5264170.2181216,...</td>\n",
       "      <td>10980</td>\n",
       "      <td>10980</td>\n",
       "      <td>LINESTRING (551166.4358181034 5264082.91422144...</td>\n",
       "    </tr>\n",
       "    <tr>\n",
       "      <th>37</th>\n",
       "      <td>37</td>\n",
       "      <td>LINESTRING (547075.7549287126 5282745.67299479...</td>\n",
       "      <td>28896</td>\n",
       "      <td>28896</td>\n",
       "      <td>LINESTRING (547069.5763487946 5282741.61158344...</td>\n",
       "    </tr>\n",
       "  </tbody>\n",
       "</table>\n",
       "</div>"
      ],
      "text/plain": [
       "       sidewalk_id                                           geometry  \\\n",
       "0                0  LINESTRING (553093.1855578402 5286337.77174694...   \n",
       "8315          8315  LINESTRING (553167.6925544755 5286145.78556960...   \n",
       "10              10  LINESTRING (551370.3514823434 5264082.59666747...   \n",
       "3135          3135  LINESTRING (551373.4817165736 5263995.60772028...   \n",
       "22              22  LINESTRING (551375.5319602233 5264093.96418780...   \n",
       "22              22  LINESTRING (551375.5319602233 5264093.96418780...   \n",
       "33              33  LINESTRING (554257.7202917113 5282780.54905245...   \n",
       "10985        10985  LINESTRING (554278.6501475611 5282787.30515523...   \n",
       "34              34  LINESTRING (551262.9286776893 5264170.2181216,...   \n",
       "37              37  LINESTRING (547075.7549287126 5282745.67299479...   \n",
       "\n",
       "       index_st  street_id                                        geometry_st  \n",
       "0         33635      33635  LINESTRING (553174.0424251509 5286141.99908964...  \n",
       "8315      33635      33635  LINESTRING (553174.0424251509 5286141.99908964...  \n",
       "10        27780      27780  LINESTRING (551514.4555440756 5264023.54738159...  \n",
       "3135      27780      27780  LINESTRING (551514.4555440756 5264023.54738159...  \n",
       "22        27842      27842  LINESTRING (551563.4413877537 5264009.86178889...  \n",
       "22        31989      31989  LINESTRING (551600.0804006804 5264232.40211658...  \n",
       "33        20070      20070  LINESTRING (554182.331759876 5282778.620504319...  \n",
       "10985     20070      20070  LINESTRING (554182.331759876 5282778.620504319...  \n",
       "34        10980      10980  LINESTRING (551166.4358181034 5264082.91422144...  \n",
       "37        28896      28896  LINESTRING (547069.5763487946 5282741.61158344...  "
      ]
     },
     "execution_count": 8,
     "metadata": {},
     "output_type": "execute_result"
    }
   ],
   "source": [
    "# Trim sidewalk lines that intersects streets - keep the side that's on the centroid of the line\n",
    "overlapping = gpd.sjoin(sidewalks[['sidewalk_id', 'geometry']], \n",
    "                        streets[['street_id', 'geometry']], \n",
    "                        how='inner', \n",
    "                        op='intersects', \n",
    "                        lsuffix='sw', \n",
    "                        rsuffix='st')\n",
    "\n",
    "# The streets geometry column gets dropped, need to reselect it\n",
    "overlapping['geometry_st'] = streets.loc[overlapping['street_id']]['geometry'].tolist()\n",
    "\n",
    "print overlapping.shape\n",
    "overlapping.head(10)"
   ]
  },
  {
   "cell_type": "code",
   "execution_count": 9,
   "metadata": {
    "collapsed": false
   },
   "outputs": [
    {
     "data": {
      "image/png": "[encoded data removed]",
      "text/plain": [
       "<matplotlib.figure.Figure at 0x7fd9429c34d0>"
      ]
     },
     "metadata": {},
     "output_type": "display_data"
    }
   ],
   "source": [
    "# Example - the central line would be kept, the others discarded\n",
    "n = 33\n",
    "split = overlapping.loc[n, 'geometry'].difference(overlapping.loc[n, 'geometry_st']).geoms\n",
    "ax1 = gpd.GeoSeries(split).plot(linewidth=4)\n",
    "# ax1.set_aspect(10)\n",
    "\n",
    "split_mid = overlapping.loc[n, 'geometry'].interpolate(0.5, normalized=True)\n",
    "\n",
    "plt.scatter(split_mid.x, split_mid.y, zorder=10)\n",
    "\n",
    "fig = plt.gcf()\n",
    "fig.set_size_inches(5, 5)"
   ]
  },
  {
   "cell_type": "code",
   "execution_count": 10,
   "metadata": {
    "collapsed": false
   },
   "outputs": [
    {
     "data": {
      "text/html": [
       "<div>\n",
       "<table border=\"1\" class=\"dataframe\">\n",
       "  <thead>\n",
       "    <tr style=\"text-align: right;\">\n",
       "      <th></th>\n",
       "      <th>changed</th>\n",
       "      <th>geometry</th>\n",
       "      <th>sidewalk_id</th>\n",
       "    </tr>\n",
       "    <tr>\n",
       "      <th></th>\n",
       "      <th></th>\n",
       "      <th></th>\n",
       "      <th></th>\n",
       "    </tr>\n",
       "  </thead>\n",
       "  <tbody>\n",
       "    <tr>\n",
       "      <th>0</th>\n",
       "      <td>True</td>\n",
       "      <td>LINESTRING (553094.0125750737 5286337.77418563...</td>\n",
       "      <td>0</td>\n",
       "    </tr>\n",
       "    <tr>\n",
       "      <th>10</th>\n",
       "      <td>True</td>\n",
       "      <td>LINESTRING (551370.8064634119 5264082.38932180...</td>\n",
       "      <td>10</td>\n",
       "    </tr>\n",
       "    <tr>\n",
       "      <th>22</th>\n",
       "      <td>True</td>\n",
       "      <td>LINESTRING (551375.986941293 5264093.756842134...</td>\n",
       "      <td>22</td>\n",
       "    </tr>\n",
       "    <tr>\n",
       "      <th>33</th>\n",
       "      <td>True</td>\n",
       "      <td>LINESTRING (554231.0435601913 5282830.19993804...</td>\n",
       "      <td>33</td>\n",
       "    </tr>\n",
       "    <tr>\n",
       "      <th>34</th>\n",
       "      <td>True</td>\n",
       "      <td>LINESTRING (551263.3156520326 5264169.90149744...</td>\n",
       "      <td>34</td>\n",
       "    </tr>\n",
       "  </tbody>\n",
       "</table>\n",
       "</div>"
      ],
      "text/plain": [
       "   changed                                           geometry  sidewalk_id\n",
       "                                                                          \n",
       "0     True  LINESTRING (553094.0125750737 5286337.77418563...            0\n",
       "10    True  LINESTRING (551370.8064634119 5264082.38932180...           10\n",
       "22    True  LINESTRING (551375.986941293 5264093.756842134...           22\n",
       "33    True  LINESTRING (554231.0435601913 5282830.19993804...           33\n",
       "34    True  LINESTRING (551263.3156520326 5264169.90149744...           34"
      ]
     },
     "execution_count": 10,
     "metadata": {},
     "output_type": "execute_result"
    }
   ],
   "source": [
    "def trim_sidewalk(group, tol=1e-7, threshold=0.6, minlen=5, offset=0.5):\n",
    "    '''Given intersecting sidewalk and street geometries, return the midpoint-containing\n",
    "    sidewalk segment.'''\n",
    "    changed = False\n",
    "    \n",
    "    index_sw = group['sidewalk_id'].iloc[0]\n",
    "    sidewalk = group['geometry'].iloc[0]\n",
    "    street = geometry.MultiLineString(list(group['geometry_st']))\n",
    "\n",
    "    split = list(sidewalk.difference(street).geoms)\n",
    "    \n",
    "    # First, let's just try removing the two end pieces\n",
    "    start = sidewalk.coords[0]\n",
    "    end = sidewalk.coords[-1]\n",
    "    changed = False\n",
    "\n",
    "    n = len(split)\n",
    "    if n == 1:\n",
    "        # This shouldn't happen, but might as well catch it\n",
    "        raise ValueError(\"Sidewalk and streets don't intersect\")\n",
    "    elif n == 2:\n",
    "        # Only two geometries - can't remove both! Decide whether to keep one or both\n",
    "        if split[0].length < minlen and split[1].length < minlen:\n",
    "            # Keep the longer segment\n",
    "            if split[0].length < split[1].length:\n",
    "                changed = True\n",
    "                split.pop(0)\n",
    "            else:\n",
    "                changed = True\n",
    "                split.pop(1)\n",
    "\n",
    "        else:\n",
    "            if split[0].length < minlen:\n",
    "                changed = True\n",
    "                split.pop(0)\n",
    "            elif split[1].length < minlen:\n",
    "                changed = True\n",
    "                split.pop()\n",
    "    else:\n",
    "        # There are more than 3 lines - removed end lines if they're below threshold\n",
    "        \n",
    "        # Separate ends from everything else\n",
    "        keep = []\n",
    "        for line in split:\n",
    "            if start in line.coords:\n",
    "                startline = line\n",
    "            elif end in line.coords:\n",
    "                endline = line\n",
    "            else:\n",
    "                keep.append(line)\n",
    "\n",
    "        # Evaluate end lines same as before\n",
    "        if startline.length > minlen:\n",
    "            keep.append(startline)\n",
    "        else:\n",
    "            changed = True\n",
    "        \n",
    "        if endline.length > minlen:\n",
    "            keep.append(endline)\n",
    "        else:\n",
    "            changed = True\n",
    "        \n",
    "    # Finally, many complex situations arise where trimming the\n",
    "    # ends is not enough - instead, just keep the large remaining segment\n",
    "    # above some threshold\n",
    "    for line in split:\n",
    "        if line.length > (0.5 * sidewalk.length):\n",
    "            keep = [line]\n",
    "            changed = True\n",
    "    split = keep\n",
    "    \n",
    "    trimmed = ops.linemerge(split)\n",
    "\n",
    "    # Any trimmed ends that currently touch the street - trim them back a little\n",
    "    # Attempt to trim back by 'offset', unless sidewalk is currently shorter than that\n",
    "    # TODO: Ideally, would only want to cut back the ends that were already trimmed.\n",
    "    # Because we already split up and re-merged the sidewalk line, order is not\n",
    "    # necessarily guaranteed, so we'd need to track that.\n",
    "    if (trimmed.length / 2) < offset:\n",
    "        # Trim by 10% on each end\n",
    "        first = trimmed.interpolate(0.1, normalized=True)\n",
    "        last = trimmed.interpolate(0.9, normalized=True)\n",
    "    else:\n",
    "        first = trimmed.interpolate(offset)\n",
    "        last = trimmed.interpolate(trimmed.length - offset)\n",
    "  \n",
    "    trimmed_arr = list(trimmed.coords)\n",
    "    trimmed_arr[0] = (first.x, first.y)\n",
    "    trimmed_arr[-1] = (last.x, last.y)\n",
    "    \n",
    "    trimmed = geometry.LineString(trimmed_arr)\n",
    "    \n",
    "    return gpd.GeoDataFrame({'sidewalk_id': [index_sw], \n",
    "                             'geometry': [trimmed],\n",
    "                             'changed': changed}) \n",
    "\n",
    "\n",
    "# fixed_sw = overlapping[overlapping['sidewalk_id'] == 13213].groupby('sidewalk_id').apply(trim_sidewalk).unstack()\n",
    "fixed_sw = overlapping.groupby('sidewalk_id').apply(trim_sidewalk).unstack()\n",
    "fixed_sw.columns = fixed_sw.columns.get_level_values(0)\n",
    "fixed_sw.index.name = ''\n",
    "\n",
    "# Update the geometry column for sidewalks that intersected\n",
    "sidewalks.update(fixed_sw)\n",
    "# For some reason the id column gets turned into a float\n",
    "sidewalks['sidewalk_id'] = sidewalks['sidewalk_id'].astype(int)\n",
    "\n",
    "# Separately save 'changed' dataset\n",
    "changed = gpd.GeoDataFrame(fixed_sw[fixed_sw['changed']])\n",
    "\n",
    "\n",
    "fixed_sw.head()"
   ]
  },
  {
   "cell_type": "code",
   "execution_count": 11,
   "metadata": {
    "collapsed": false
   },
   "outputs": [],
   "source": [
    "ex = overlapping[overlapping['sidewalk_id'] == 13213]\n",
    "split = ex['geometry'].iloc[0].difference(ex['geometry_st'].iloc[0])"
   ]
  },
  {
   "cell_type": "code",
   "execution_count": 12,
   "metadata": {
    "collapsed": false
   },
   "outputs": [
    {
     "data": {
      "text/plain": [
       "[<matplotlib.lines.Line2D at 0x7fd9420f7ad0>]"
      ]
     },
     "execution_count": 12,
     "metadata": {},
     "output_type": "execute_result"
    },
    {
     "data": {
      "image/png": "[encoded data removed]",
      "text/plain": [
       "<matplotlib.figure.Figure at 0x7fd9451255d0>"
      ]
     },
     "metadata": {},
     "output_type": "display_data"
    }
   ],
   "source": [
    "plt.plot(*ex['geometry'].iloc[0].xy)\n",
    "plt.plot(*ex['geometry_st'].iloc[0].xy)\n",
    "plt.plot(*fixed_sw[fixed_sw['sidewalk_id'] == 13213].geometry.iloc[0].xy)"
   ]
  },
  {
   "cell_type": "code",
   "execution_count": 13,
   "metadata": {
    "collapsed": false
   },
   "outputs": [
    {
     "name": "stdout",
     "output_type": "stream",
     "text": [
      "Intersecting:  (980, 4)\n",
      "Changed:  (4739, 3)\n",
      "Total:  (4903, 3)\n"
     ]
    }
   ],
   "source": [
    "# Report how many are still 'intersecting', i.e. would've been cut into too small of pieces\n",
    "intersecting = gpd.sjoin(sidewalks[['sidewalk_id', 'geometry']], \n",
    "                         streets[['street_id', 'geometry']], \n",
    "                         how='inner', \n",
    "                         op='intersects', \n",
    "                         lsuffix='sw', \n",
    "                         rsuffix='st')\n",
    "\n",
    "print 'Intersecting: ', intersecting.shape\n",
    "print 'Changed: ', changed.shape\n",
    "print 'Total: ', fixed_sw.shape"
   ]
  },
  {
   "cell_type": "code",
   "execution_count": 14,
   "metadata": {
    "collapsed": false
   },
   "outputs": [],
   "source": [
    "intersecting.to_file('output/intersecting.shp')\n",
    "changed['changed'] = changed['changed'].astype(int)\n",
    "fixed_sw['changed'] = fixed_sw['changed'].astype(int)\n",
    "changed.to_file('output/changed.shp')\n",
    "gpd.GeoDataFrame(fixed_sw).to_file('output/total.shp')"
   ]
  },
  {
   "cell_type": "markdown",
   "metadata": {},
   "source": [
    "# Fix easy dangles"
   ]
  },
  {
   "cell_type": "code",
   "execution_count": 15,
   "metadata": {
    "collapsed": false
   },
   "outputs": [
    {
     "name": "stdout",
     "output_type": "stream",
     "text": [
      "(54070, 6)\n"
     ]
    },
    {
     "data": {
      "text/html": [
       "<div>\n",
       "<table border=\"1\" class=\"dataframe\">\n",
       "  <thead>\n",
       "    <tr style=\"text-align: right;\">\n",
       "      <th></th>\n",
       "      <th>sidewalk_id_s1</th>\n",
       "      <th>geometry</th>\n",
       "      <th>index_s2</th>\n",
       "      <th>sidewalk_id_s2</th>\n",
       "      <th>geometry_s2</th>\n",
       "      <th>intersection</th>\n",
       "    </tr>\n",
       "  </thead>\n",
       "  <tbody>\n",
       "    <tr>\n",
       "      <th>0</th>\n",
       "      <td>0</td>\n",
       "      <td>LINESTRING (553094.0125750737 5286337.77418563...</td>\n",
       "      <td>8315</td>\n",
       "      <td>8315</td>\n",
       "      <td>LINESTRING (553167.3477410791 5286158.67110858...</td>\n",
       "      <td>POINT (553162.5495850043 5286337.976285667)</td>\n",
       "    </tr>\n",
       "    <tr>\n",
       "      <th>9348</th>\n",
       "      <td>9348</td>\n",
       "      <td>LINESTRING (553173.1995025844 5286166.85702321...</td>\n",
       "      <td>8315</td>\n",
       "      <td>8315</td>\n",
       "      <td>LINESTRING (553167.3477410791 5286158.67110858...</td>\n",
       "      <td>POINT (553166.70622311 5286182.644378993)</td>\n",
       "    </tr>\n",
       "    <tr>\n",
       "      <th>8315</th>\n",
       "      <td>8315</td>\n",
       "      <td>LINESTRING (553167.3477410791 5286158.67110858...</td>\n",
       "      <td>0</td>\n",
       "      <td>0</td>\n",
       "      <td>LINESTRING (553094.0125750737 5286337.77418563...</td>\n",
       "      <td>POINT (553162.5495850043 5286337.976285667)</td>\n",
       "    </tr>\n",
       "    <tr>\n",
       "      <th>9348</th>\n",
       "      <td>9348</td>\n",
       "      <td>LINESTRING (553173.1995025844 5286166.85702321...</td>\n",
       "      <td>0</td>\n",
       "      <td>0</td>\n",
       "      <td>LINESTRING (553094.0125750737 5286337.77418563...</td>\n",
       "      <td>POINT (553102.8911546955 5286337.80036654)</td>\n",
       "    </tr>\n",
       "    <tr>\n",
       "      <th>0</th>\n",
       "      <td>0</td>\n",
       "      <td>LINESTRING (553094.0125750737 5286337.77418563...</td>\n",
       "      <td>9348</td>\n",
       "      <td>9348</td>\n",
       "      <td>LINESTRING (553173.1995025844 5286166.85702321...</td>\n",
       "      <td>POINT (553102.8911546955 5286337.80036654)</td>\n",
       "    </tr>\n",
       "  </tbody>\n",
       "</table>\n",
       "</div>"
      ],
      "text/plain": [
       "      sidewalk_id_s1                                           geometry  \\\n",
       "0                  0  LINESTRING (553094.0125750737 5286337.77418563...   \n",
       "9348            9348  LINESTRING (553173.1995025844 5286166.85702321...   \n",
       "8315            8315  LINESTRING (553167.3477410791 5286158.67110858...   \n",
       "9348            9348  LINESTRING (553173.1995025844 5286166.85702321...   \n",
       "0                  0  LINESTRING (553094.0125750737 5286337.77418563...   \n",
       "\n",
       "      index_s2  sidewalk_id_s2  \\\n",
       "0         8315            8315   \n",
       "9348      8315            8315   \n",
       "8315         0               0   \n",
       "9348         0               0   \n",
       "0         9348            9348   \n",
       "\n",
       "                                            geometry_s2  \\\n",
       "0     LINESTRING (553167.3477410791 5286158.67110858...   \n",
       "9348  LINESTRING (553167.3477410791 5286158.67110858...   \n",
       "8315  LINESTRING (553094.0125750737 5286337.77418563...   \n",
       "9348  LINESTRING (553094.0125750737 5286337.77418563...   \n",
       "0     LINESTRING (553173.1995025844 5286166.85702321...   \n",
       "\n",
       "                                     intersection  \n",
       "0     POINT (553162.5495850043 5286337.976285667)  \n",
       "9348    POINT (553166.70622311 5286182.644378993)  \n",
       "8315  POINT (553162.5495850043 5286337.976285667)  \n",
       "9348   POINT (553102.8911546955 5286337.80036654)  \n",
       "0      POINT (553102.8911546955 5286337.80036654)  "
      ]
     },
     "execution_count": 15,
     "metadata": {},
     "output_type": "execute_result"
    }
   ],
   "source": [
    "# There are a lot of dangles - slight overshoots where sidewalks intersect\n",
    "# To fix them, we need to identify them and them remove the overshoots\n",
    "\n",
    "# TODO: address self-self intersection (i.e. within a single LineString geometry)\n",
    "\n",
    "# Find sidewalks that intersect near their ends\n",
    "\n",
    "sidewalk_ixn = gpd.sjoin(sidewalks[['sidewalk_id', 'geometry']], \n",
    "                         sidewalks[['sidewalk_id', 'geometry']], \n",
    "                         how='inner', \n",
    "                         op='intersects', \n",
    "                         lsuffix='s1', \n",
    "                         rsuffix='s2')\n",
    "\n",
    "# Ignore self-self\n",
    "sidewalk_ixn = sidewalk_ixn[sidewalk_ixn['sidewalk_id_s1'] != sidewalk_ixn['sidewalk_id_s2']]\n",
    "\n",
    "# Restore geometry column for 'other' sidewalk\n",
    "sidewalk_ixn['geometry_s2'] = sidewalks.loc[sidewalk_ixn['sidewalk_id_s2']]['geometry'].tolist()\n",
    "\n",
    "# Add intersection point(s)\n",
    "sidewalk_ixn['intersection'] = sidewalk_ixn.apply(lambda row: row['geometry'].intersection(row['geometry_s2']), axis=1)\n",
    "\n",
    "# Remove rows that intersect for a line or more (TODO: flag for fixing manually)\n",
    "sidewalk_ixn = sidewalk_ixn[sidewalk_ixn['intersection'].apply(lambda geom: geom.type) != 'GeometryCollection']\n",
    "sidewalk_ixn = sidewalk_ixn[sidewalk_ixn['intersection'].apply(lambda geom: geom.type) != 'MultiLineString']\n",
    "\n",
    "print sidewalk_ixn.shape\n",
    "\n",
    "sidewalk_ixn.head()"
   ]
  },
  {
   "cell_type": "code",
   "execution_count": 16,
   "metadata": {
    "collapsed": false,
    "scrolled": true
   },
   "outputs": [
    {
     "name": "stdout",
     "output_type": "stream",
     "text": [
      "(54070, 3)\n"
     ]
    },
    {
     "data": {
      "text/html": [
       "<div>\n",
       "<table border=\"1\" class=\"dataframe\">\n",
       "  <thead>\n",
       "    <tr style=\"text-align: right;\">\n",
       "      <th></th>\n",
       "      <th>sidewalk_id_s1</th>\n",
       "      <th>geometry</th>\n",
       "      <th>ixn_points</th>\n",
       "    </tr>\n",
       "  </thead>\n",
       "  <tbody>\n",
       "    <tr>\n",
       "      <th>0</th>\n",
       "      <td>0</td>\n",
       "      <td>LINESTRING (553094.0125750737 5286337.77418563...</td>\n",
       "      <td>(POINT (553162.5495850043 5286337.976285667), ...</td>\n",
       "    </tr>\n",
       "    <tr>\n",
       "      <th>0</th>\n",
       "      <td>0</td>\n",
       "      <td>LINESTRING (553094.0125750737 5286337.77418563...</td>\n",
       "      <td>(POINT (553162.5495850043 5286337.976285667), ...</td>\n",
       "    </tr>\n",
       "    <tr>\n",
       "      <th>1</th>\n",
       "      <td>1</td>\n",
       "      <td>LINESTRING (554449.1992865908 5278436.49564133...</td>\n",
       "      <td>(POINT (554453.2372857099 5278436.529215374))</td>\n",
       "    </tr>\n",
       "    <tr>\n",
       "      <th>4</th>\n",
       "      <td>4</td>\n",
       "      <td>LINESTRING (547051.3074143834 5283524.89159580...</td>\n",
       "      <td>(POINT (547051.2910976056 5283527.204193444), ...</td>\n",
       "    </tr>\n",
       "    <tr>\n",
       "      <th>4</th>\n",
       "      <td>4</td>\n",
       "      <td>LINESTRING (547051.3074143834 5283524.89159580...</td>\n",
       "      <td>(POINT (547051.2910976056 5283527.204193444), ...</td>\n",
       "    </tr>\n",
       "  </tbody>\n",
       "</table>\n",
       "</div>"
      ],
      "text/plain": [
       "   sidewalk_id_s1                                           geometry  \\\n",
       "0               0  LINESTRING (553094.0125750737 5286337.77418563...   \n",
       "0               0  LINESTRING (553094.0125750737 5286337.77418563...   \n",
       "1               1  LINESTRING (554449.1992865908 5278436.49564133...   \n",
       "4               4  LINESTRING (547051.3074143834 5283524.89159580...   \n",
       "4               4  LINESTRING (547051.3074143834 5283524.89159580...   \n",
       "\n",
       "                                          ixn_points  \n",
       "0  (POINT (553162.5495850043 5286337.976285667), ...  \n",
       "0  (POINT (553162.5495850043 5286337.976285667), ...  \n",
       "1      (POINT (554453.2372857099 5278436.529215374))  \n",
       "4  (POINT (547051.2910976056 5283527.204193444), ...  \n",
       "4  (POINT (547051.2910976056 5283527.204193444), ...  "
      ]
     },
     "execution_count": 16,
     "metadata": {},
     "output_type": "execute_result"
    }
   ],
   "source": [
    "# A given sidewalk may intersect several other sidewalks, even the same one multiple times\n",
    "# This strategy will therefore group by 'sidewalk 1' and tally up all the other intersecting\n",
    "\n",
    "# First, for each sidewalk that intersects any other sidewalk, find all intersection points\n",
    "def agg_ixn(group):\n",
    "    if group.shape[0] == 1:\n",
    "        ixn_type = group['intersection'].iloc[0].type\n",
    "        if ixn_type == 'Point':\n",
    "            return geometry.MultiPoint(list(group['intersection']))\n",
    "        elif ixn_type == 'MultiPoint':\n",
    "            return group['intersection'].iloc[0]\n",
    "        else:\n",
    "            raise Exception('Odd Geometry Encountered: '.format(ixn_type))\n",
    "    else:\n",
    "        geoms = []\n",
    "        for i, row in group.iterrows():\n",
    "            ixn_type = row['intersection'].type\n",
    "            if ixn_type == 'Point':\n",
    "                geoms.append(row['intersection'])\n",
    "            elif ixn_type == 'MultiPoint':\n",
    "                geoms += row['intersection'].geoms\n",
    "            else:\n",
    "                print ixn_type\n",
    "                raise Exception('Odd Geometry Encountered: '.format(ixn_type))\n",
    "        return geometry.MultiPoint(geoms)\n",
    "\n",
    "sw_ixn_grouped = sidewalk_ixn.groupby('sidewalk_id_s1').apply(agg_ixn)\n",
    "\n",
    "sw_ixn = pd.merge(sidewalk_ixn[['sidewalk_id_s1', 'geometry']], \n",
    "                  gpd.GeoDataFrame({'ixn_points': sw_ixn_grouped}), \n",
    "                  left_index=True, \n",
    "                  right_index=True)\n",
    "\n",
    "print sw_ixn.shape\n",
    "sw_ixn.head()"
   ]
  },
  {
   "cell_type": "code",
   "execution_count": 17,
   "metadata": {
    "collapsed": false
   },
   "outputs": [
    {
     "name": "stderr",
     "output_type": "stream",
     "text": [
      "/home/nick/jupyter_venv/lib/python2.7/site-packages/ipykernel/__main__.py:49: SettingWithCopyWarning: \n",
      "A value is trying to be set on a copy of a slice from a DataFrame\n",
      "\n",
      "See the caveats in the documentation: http://pandas.pydata.org/pandas-docs/stable/indexing.html#indexing-view-versus-copy\n"
     ]
    },
    {
     "data": {
      "text/html": [
       "<div>\n",
       "<table border=\"1\" class=\"dataframe\">\n",
       "  <thead>\n",
       "    <tr style=\"text-align: right;\">\n",
       "      <th></th>\n",
       "      <th>sidewalk_id_s1</th>\n",
       "      <th>geometry</th>\n",
       "      <th>ixn_points</th>\n",
       "      <th>trimmed</th>\n",
       "      <th>changed</th>\n",
       "    </tr>\n",
       "  </thead>\n",
       "  <tbody>\n",
       "    <tr>\n",
       "      <th>0</th>\n",
       "      <td>0</td>\n",
       "      <td>LINESTRING (553094.0125750737 5286337.77418563...</td>\n",
       "      <td>(POINT (553162.5495850043 5286337.976285667), ...</td>\n",
       "      <td>LINESTRING (553102.8911546955 5286337.80036654...</td>\n",
       "      <td>1</td>\n",
       "    </tr>\n",
       "    <tr>\n",
       "      <th>0</th>\n",
       "      <td>0</td>\n",
       "      <td>LINESTRING (553094.0125750737 5286337.77418563...</td>\n",
       "      <td>(POINT (553162.5495850043 5286337.976285667), ...</td>\n",
       "      <td>LINESTRING (553102.8911546955 5286337.80036654...</td>\n",
       "      <td>1</td>\n",
       "    </tr>\n",
       "    <tr>\n",
       "      <th>1</th>\n",
       "      <td>1</td>\n",
       "      <td>LINESTRING (554449.1992865908 5278436.49564133...</td>\n",
       "      <td>(POINT (554453.2372857099 5278436.529215374))</td>\n",
       "      <td>LINESTRING (554453.2372857099 5278436.52921537...</td>\n",
       "      <td>1</td>\n",
       "    </tr>\n",
       "    <tr>\n",
       "      <th>4</th>\n",
       "      <td>4</td>\n",
       "      <td>LINESTRING (547051.3074143834 5283524.89159580...</td>\n",
       "      <td>(POINT (547051.2910976056 5283527.204193444), ...</td>\n",
       "      <td>LINESTRING (547051.2910976056 5283527.20419344...</td>\n",
       "      <td>1</td>\n",
       "    </tr>\n",
       "    <tr>\n",
       "      <th>4</th>\n",
       "      <td>4</td>\n",
       "      <td>LINESTRING (547051.3074143834 5283524.89159580...</td>\n",
       "      <td>(POINT (547051.2910976056 5283527.204193444), ...</td>\n",
       "      <td>LINESTRING (547051.2910976056 5283527.20419344...</td>\n",
       "      <td>1</td>\n",
       "    </tr>\n",
       "  </tbody>\n",
       "</table>\n",
       "</div>"
      ],
      "text/plain": [
       "   sidewalk_id_s1                                           geometry  \\\n",
       "0               0  LINESTRING (553094.0125750737 5286337.77418563...   \n",
       "0               0  LINESTRING (553094.0125750737 5286337.77418563...   \n",
       "1               1  LINESTRING (554449.1992865908 5278436.49564133...   \n",
       "4               4  LINESTRING (547051.3074143834 5283524.89159580...   \n",
       "4               4  LINESTRING (547051.3074143834 5283524.89159580...   \n",
       "\n",
       "                                          ixn_points  \\\n",
       "0  (POINT (553162.5495850043 5286337.976285667), ...   \n",
       "0  (POINT (553162.5495850043 5286337.976285667), ...   \n",
       "1      (POINT (554453.2372857099 5278436.529215374))   \n",
       "4  (POINT (547051.2910976056 5283527.204193444), ...   \n",
       "4  (POINT (547051.2910976056 5283527.204193444), ...   \n",
       "\n",
       "                                             trimmed  changed  \n",
       "0  LINESTRING (553102.8911546955 5286337.80036654...        1  \n",
       "0  LINESTRING (553102.8911546955 5286337.80036654...        1  \n",
       "1  LINESTRING (554453.2372857099 5278436.52921537...        1  \n",
       "4  LINESTRING (547051.2910976056 5283527.20419344...        1  \n",
       "4  LINESTRING (547051.2910976056 5283527.20419344...        1  "
      ]
     },
     "execution_count": 17,
     "metadata": {},
     "output_type": "execute_result"
    }
   ],
   "source": [
    "# For every sidewalk, sort the intersection points, grab the first and last\n",
    "# and trim if it's in the last (tol) fraction\n",
    "\n",
    "def cut(line, distance):\n",
    "    # Cuts a line in two at a distance from its starting point\n",
    "    if distance <= 0.0 or distance >= line.length:\n",
    "        return [geometry.LineString(line)]\n",
    "    coords = list(line.coords)\n",
    "    for i, p in enumerate(coords):\n",
    "        pd = line.project(geometry.Point(p))\n",
    "        if pd == distance:\n",
    "            return [\n",
    "                geometry.LineString(coords[:i+1]),\n",
    "                geometry.LineString(coords[i:])]\n",
    "        if pd > distance:\n",
    "            cp = line.interpolate(distance)\n",
    "            return [\n",
    "                geometry.LineString(coords[:i] + [(cp.x, cp.y)]),\n",
    "                geometry.LineString([(cp.x, cp.y)] + coords[i:])]\n",
    "\n",
    "def trim_ixn_sidewalks(sidewalk, multipoint, tol=0.3):\n",
    "    points = multipoint.geoms\n",
    "    points_dist = [(point, sidewalk.project(point)) for point in points]\n",
    "    points_dist.sort(key=lambda p: p[1])\n",
    "    first = points_dist[0]\n",
    "    last = points_dist[-1]\n",
    "    \n",
    "    # Now trim (TODO: make non-normalized version)\n",
    "    sidewalk_length = sidewalk.length\n",
    "    if (last[1] / sidewalk_length) > (1 - tol):\n",
    "        # Remove all coords after this point\n",
    "        sidewalk = cut(sidewalk, last[1])[0]\n",
    "        \n",
    "    if (first[1] / sidewalk.length) < tol:\n",
    "        # Remove all coords before this point\n",
    "        # (FIXME)\n",
    "        try:\n",
    "            sidewalk = cut(sidewalk, first[1])[-1]\n",
    "        except Exception as e:\n",
    "            print first[1]\n",
    "            print sidewalk.length\n",
    "            print cut(sidewalk, first[1])\n",
    "            raise e\n",
    "\n",
    "    return sidewalk\n",
    "\n",
    "sw_ixn['trimmed'] = sw_ixn.apply(lambda row: trim_ixn_sidewalks(row['geometry'], row['ixn_points']), axis=1)\n",
    "sw_ixn['changed'] = 0\n",
    "sw_ixn['changed'][sw_ixn['geometry'] != sw_ixn['trimmed']] = 1\n",
    "sw_ixn.head()"
   ]
  },
  {
   "cell_type": "code",
   "execution_count": 18,
   "metadata": {
    "collapsed": false
   },
   "outputs": [],
   "source": [
    "# Update the main sidewalks table\n",
    "sidewalks.update(sw_ixn.drop_duplicates(subset='sidewalk_id_s1').rename(columns={'geometry': 'geom', 'trimmed': 'geometry'}))"
   ]
  },
  {
   "cell_type": "code",
   "execution_count": 19,
   "metadata": {
    "collapsed": true,
    "scrolled": true
   },
   "outputs": [],
   "source": [
    "# Write to file for evaluation\n",
    "sw_trimmed = gpd.GeoDataFrame({'geometry': sw_ixn['trimmed'][sw_ixn['changed'] == 1]})\n",
    "sw_trimmed.crs = sidewalks.crs\n",
    "sw_trimmed.to_file('./output/trimmed.shp')"
   ]
  },
  {
   "cell_type": "markdown",
   "metadata": {},
   "source": [
    "# Create street intersections table"
   ]
  },
  {
   "cell_type": "code",
   "execution_count": 20,
   "metadata": {
    "collapsed": false
   },
   "outputs": [
    {
     "data": {
      "text/html": [
       "<div>\n",
       "<table border=\"1\" class=\"dataframe\">\n",
       "  <thead>\n",
       "    <tr style=\"text-align: right;\">\n",
       "      <th></th>\n",
       "      <th>geometry</th>\n",
       "      <th>n_streets</th>\n",
       "    </tr>\n",
       "  </thead>\n",
       "  <tbody>\n",
       "    <tr>\n",
       "      <th>2</th>\n",
       "      <td>POINT (542743.7396657866 5278732.491555594)</td>\n",
       "      <td>3</td>\n",
       "    </tr>\n",
       "    <tr>\n",
       "      <th>10</th>\n",
       "      <td>POINT (543695.2727371606 5269426.24657084)</td>\n",
       "      <td>3</td>\n",
       "    </tr>\n",
       "    <tr>\n",
       "      <th>15</th>\n",
       "      <td>POINT (543739.153916603 5278752.336354328)</td>\n",
       "      <td>3</td>\n",
       "    </tr>\n",
       "    <tr>\n",
       "      <th>16</th>\n",
       "      <td>POINT (543739.5859378439 5279626.32332488)</td>\n",
       "      <td>3</td>\n",
       "    </tr>\n",
       "    <tr>\n",
       "      <th>18</th>\n",
       "      <td>POINT (543758.8830215711 5278712.880312713)</td>\n",
       "      <td>3</td>\n",
       "    </tr>\n",
       "  </tbody>\n",
       "</table>\n",
       "</div>"
      ],
      "text/plain": [
       "                                       geometry  n_streets\n",
       "2   POINT (542743.7396657866 5278732.491555594)          3\n",
       "10   POINT (543695.2727371606 5269426.24657084)          3\n",
       "15   POINT (543739.153916603 5278752.336354328)          3\n",
       "16   POINT (543739.5859378439 5279626.32332488)          3\n",
       "18  POINT (543758.8830215711 5278712.880312713)          3"
      ]
     },
     "execution_count": 20,
     "metadata": {},
     "output_type": "execute_result"
    }
   ],
   "source": [
    "# Create 'intersections' table\n",
    "\n",
    "st_ends = gpd.GeoDataFrame({\n",
    "    'geometry': pd.concat([streets.geometry.apply(lambda l: geometry.Point(l.coords[0])),\n",
    "                           streets.geometry.apply(lambda l: geometry.Point(l.coords[-1]))]),\n",
    "    'st_index': list(streets.index) * 2\n",
    "})\n",
    "\n",
    "# geometry equality doesn't work, so comparing wkts\n",
    "# TODO: should really use shapely equivalent of 'ST_DWithin', but would need to\n",
    "# custom-code it\n",
    "st_ends['wkt'] = st_ends['geometry'].apply(lambda l: l.wkt)\n",
    "\n",
    "intersections = pd.DataFrame(st_ends.groupby('wkt').agg({\n",
    "    'wkt': 'size',\n",
    "    'geometry': lambda x: x.iloc[0]\n",
    "}))\n",
    "                             \n",
    "intersections.rename(columns={'wkt': 'n_streets'}, inplace=True)\n",
    "intersections.reset_index(level=0, drop=True, inplace=True)\n",
    "\n",
    "# We only care about intersections where more than 2 streets meet\n",
    "intersections = intersections[intersections['n_streets'] > 2]\n",
    "\n",
    "intersections.head()"
   ]
  },
  {
   "cell_type": "markdown",
   "metadata": {},
   "source": [
    "# Group sidewalk ends by intersection 'side'"
   ]
  },
  {
   "cell_type": "code",
   "execution_count": 21,
   "metadata": {
    "collapsed": false
   },
   "outputs": [
    {
     "data": {
      "text/html": [
       "<div>\n",
       "<table border=\"1\" class=\"dataframe\">\n",
       "  <thead>\n",
       "    <tr style=\"text-align: right;\">\n",
       "      <th></th>\n",
       "      <th>endtype</th>\n",
       "      <th>geometry</th>\n",
       "      <th>sidewalk_id</th>\n",
       "    </tr>\n",
       "  </thead>\n",
       "  <tbody>\n",
       "    <tr>\n",
       "      <th>0</th>\n",
       "      <td>start</td>\n",
       "      <td>POINT (553102.8911546955 5286337.80036654)</td>\n",
       "      <td>0</td>\n",
       "    </tr>\n",
       "    <tr>\n",
       "      <th>1</th>\n",
       "      <td>start</td>\n",
       "      <td>POINT (554453.2372857099 5278436.529215374)</td>\n",
       "      <td>1</td>\n",
       "    </tr>\n",
       "    <tr>\n",
       "      <th>2</th>\n",
       "      <td>start</td>\n",
       "      <td>POINT (547070.4454844565 5282921.708989846)</td>\n",
       "      <td>2</td>\n",
       "    </tr>\n",
       "    <tr>\n",
       "      <th>3</th>\n",
       "      <td>start</td>\n",
       "      <td>POINT (550976.5995529721 5264167.420024389)</td>\n",
       "      <td>3</td>\n",
       "    </tr>\n",
       "    <tr>\n",
       "      <th>4</th>\n",
       "      <td>start</td>\n",
       "      <td>POINT (547051.2910976056 5283527.204193444)</td>\n",
       "      <td>4</td>\n",
       "    </tr>\n",
       "  </tbody>\n",
       "</table>\n",
       "</div>"
      ],
      "text/plain": [
       "  endtype                                     geometry  sidewalk_id\n",
       "0   start   POINT (553102.8911546955 5286337.80036654)            0\n",
       "1   start  POINT (554453.2372857099 5278436.529215374)            1\n",
       "2   start  POINT (547070.4454844565 5282921.708989846)            2\n",
       "3   start  POINT (550976.5995529721 5264167.420024389)            3\n",
       "4   start  POINT (547051.2910976056 5283527.204193444)            4"
      ]
     },
     "execution_count": 21,
     "metadata": {},
     "output_type": "execute_result"
    }
   ],
   "source": [
    "ends = gpd.GeoDataFrame({\n",
    "    'sidewalk_id': pd.concat([sidewalks['sidewalk_id'], sidewalks['sidewalk_id']]),\n",
    "    'endtype': sidewalks.shape[0] * ['start'] + sidewalks.shape[0] * ['end'],\n",
    "    'geometry': pd.concat([sidewalks.geometry.apply(lambda line: geometry.Point(line.coords[0])), \n",
    "                           sidewalks.geometry.apply(lambda line: geometry.Point(line.coords[-1]))])\n",
    "})\n",
    "\n",
    "ends.reset_index(drop=True, inplace=True)\n",
    "ends.head()"
   ]
  },
  {
   "cell_type": "code",
   "execution_count": 22,
   "metadata": {
    "collapsed": false
   },
   "outputs": [
    {
     "data": {
      "text/html": [
       "<div>\n",
       "<table border=\"1\" class=\"dataframe\">\n",
       "  <thead>\n",
       "    <tr style=\"text-align: right;\">\n",
       "      <th></th>\n",
       "      <th>index_ixn</th>\n",
       "      <th>geometry</th>\n",
       "      <th>index_st</th>\n",
       "      <th>street_id</th>\n",
       "      <th>COMPKEY</th>\n",
       "      <th>geometry_st</th>\n",
       "    </tr>\n",
       "  </thead>\n",
       "  <tbody>\n",
       "    <tr>\n",
       "      <th>0</th>\n",
       "      <td>2</td>\n",
       "      <td>POLYGON ((542768.7396657866 5278732.491555594,...</td>\n",
       "      <td>30570</td>\n",
       "      <td>30570</td>\n",
       "      <td>0</td>\n",
       "      <td>LINESTRING (542743.7396657866 5278732.49155559...</td>\n",
       "    </tr>\n",
       "    <tr>\n",
       "      <th>0</th>\n",
       "      <td>2</td>\n",
       "      <td>POLYGON ((542768.7396657866 5278732.491555594,...</td>\n",
       "      <td>30573</td>\n",
       "      <td>30573</td>\n",
       "      <td>567333</td>\n",
       "      <td>LINESTRING (543550.6316786475 5278780.03391628...</td>\n",
       "    </tr>\n",
       "    <tr>\n",
       "      <th>0</th>\n",
       "      <td>2</td>\n",
       "      <td>POLYGON ((542768.7396657866 5278732.491555594,...</td>\n",
       "      <td>30580</td>\n",
       "      <td>30580</td>\n",
       "      <td>0</td>\n",
       "      <td>LINESTRING (542743.7396657866 5278732.49155559...</td>\n",
       "    </tr>\n",
       "    <tr>\n",
       "      <th>1</th>\n",
       "      <td>10</td>\n",
       "      <td>POLYGON ((543720.2727371606 5269426.24657084, ...</td>\n",
       "      <td>8279</td>\n",
       "      <td>8279</td>\n",
       "      <td>12236</td>\n",
       "      <td>LINESTRING (543695.2727371606 5269426.24657084...</td>\n",
       "    </tr>\n",
       "    <tr>\n",
       "      <th>1</th>\n",
       "      <td>10</td>\n",
       "      <td>POLYGON ((543720.2727371606 5269426.24657084, ...</td>\n",
       "      <td>3318</td>\n",
       "      <td>3318</td>\n",
       "      <td>8803</td>\n",
       "      <td>LINESTRING (543695.2727371606 5269426.24657084...</td>\n",
       "    </tr>\n",
       "  </tbody>\n",
       "</table>\n",
       "</div>"
      ],
      "text/plain": [
       "   index_ixn                                           geometry  index_st  \\\n",
       "0          2  POLYGON ((542768.7396657866 5278732.491555594,...     30570   \n",
       "0          2  POLYGON ((542768.7396657866 5278732.491555594,...     30573   \n",
       "0          2  POLYGON ((542768.7396657866 5278732.491555594,...     30580   \n",
       "1         10  POLYGON ((543720.2727371606 5269426.24657084, ...      8279   \n",
       "1         10  POLYGON ((543720.2727371606 5269426.24657084, ...      3318   \n",
       "\n",
       "   street_id  COMPKEY                                        geometry_st  \n",
       "0      30570        0  LINESTRING (542743.7396657866 5278732.49155559...  \n",
       "0      30573   567333  LINESTRING (543550.6316786475 5278780.03391628...  \n",
       "0      30580        0  LINESTRING (542743.7396657866 5278732.49155559...  \n",
       "1       8279    12236  LINESTRING (543695.2727371606 5269426.24657084...  \n",
       "1       3318     8803  LINESTRING (543695.2727371606 5269426.24657084...  "
      ]
     },
     "execution_count": 22,
     "metadata": {},
     "output_type": "execute_result"
    }
   ],
   "source": [
    "# Create a circle for each intersection point - simple buffer\n",
    "\n",
    "radius = 25  # meters\n",
    "\n",
    "circles = gpd.GeoDataFrame(geometry=intersections.apply(lambda x: x['geometry'].buffer(radius), axis=1))\n",
    "circles.reset_index(inplace=True)\n",
    "circles.rename(columns={'index': 'index_ixn'}, inplace=True)\n",
    "circles.crs = streets.crs\n",
    "\n",
    "# Pair up all circles with the streets that intersect them\n",
    "circ_st = gpd.sjoin(circles,\n",
    "                    streets,\n",
    "                    how='inner', \n",
    "                    op='intersects', \n",
    "                    lsuffix='circ', \n",
    "                    rsuffix='st')\n",
    "# (Recover the street geometry)\n",
    "circ_st['geometry_st'] = list(streets.loc[circ_st['index_st']]['geometry'])\n",
    "circ_st.head()"
   ]
  },
  {
   "cell_type": "code",
   "execution_count": 23,
   "metadata": {
    "collapsed": false,
    "scrolled": false
   },
   "outputs": [
    {
     "name": "stdout",
     "output_type": "stream",
     "text": [
      "(64794, 2)\n"
     ]
    },
    {
     "data": {
      "text/html": [
       "<div>\n",
       "<table border=\"1\" class=\"dataframe\">\n",
       "  <thead>\n",
       "    <tr style=\"text-align: right;\">\n",
       "      <th></th>\n",
       "      <th>geometry</th>\n",
       "      <th>index_ixn</th>\n",
       "    </tr>\n",
       "  </thead>\n",
       "  <tbody>\n",
       "    <tr>\n",
       "      <th>0</th>\n",
       "      <td>POLYGON ((542768.7396657866 5278732.491555594,...</td>\n",
       "      <td>2</td>\n",
       "    </tr>\n",
       "    <tr>\n",
       "      <th>1</th>\n",
       "      <td>POLYGON ((542767.9300995475 5278726.300064463,...</td>\n",
       "      <td>2</td>\n",
       "    </tr>\n",
       "    <tr>\n",
       "      <th>2</th>\n",
       "      <td>POLYGON ((542719.2681998044 5278727.422007982,...</td>\n",
       "      <td>2</td>\n",
       "    </tr>\n",
       "    <tr>\n",
       "      <th>3</th>\n",
       "      <td>POLYGON ((543720.2727371606 5269426.24657084, ...</td>\n",
       "      <td>10</td>\n",
       "    </tr>\n",
       "    <tr>\n",
       "      <th>4</th>\n",
       "      <td>POLYGON ((543694.2414741148 5269401.297233544,...</td>\n",
       "      <td>10</td>\n",
       "    </tr>\n",
       "  </tbody>\n",
       "</table>\n",
       "</div>"
      ],
      "text/plain": [
       "                                            geometry  index_ixn\n",
       "0  POLYGON ((542768.7396657866 5278732.491555594,...          2\n",
       "1  POLYGON ((542767.9300995475 5278726.300064463,...          2\n",
       "2  POLYGON ((542719.2681998044 5278727.422007982,...          2\n",
       "3  POLYGON ((543720.2727371606 5269426.24657084, ...         10\n",
       "4  POLYGON ((543694.2414741148 5269401.297233544,...         10"
      ]
     },
     "execution_count": 23,
     "metadata": {},
     "output_type": "execute_result"
    }
   ],
   "source": [
    "# Split every circle by all the streets that intersect them\n",
    "# TODO: This is avery slow operation - optimize\n",
    "def circle_split(group):\n",
    "    if group.shape[0] > 1:\n",
    "        circle = group['geometry'].iloc[0]\n",
    "    else:\n",
    "        circle = group['geometry']\n",
    "    streets = gpd.GeoSeries(group['geometry_st'])\n",
    "    \n",
    "    # Combine streets into single MultiLineString\n",
    "    multistreets = geometry.MultiLineString(list(streets))\n",
    "    \n",
    "    # Split the circle by that multilinestring\n",
    "    # (this is an awkward piece of code, but Shapely has no\n",
    "    #  built-in for this)\n",
    "    # poly_gen = ops.polygonize(circle.boundary.union(multistreets))\n",
    "    # polys = [circle.intersection(poly) for poly in poly_gen]\n",
    "    \n",
    "    polys = circle.difference(ops.cascaded_union(streets.buffer(1e-3)))\n",
    "    try: \n",
    "        polys.geoms\n",
    "    except AttributeError:\n",
    "        polys = [polys]\n",
    "    # Trim to the original circle size\n",
    "    \n",
    "    return gpd.GeoDataFrame({\n",
    "        'index_ixn': group.iloc[0, :]['index_ixn'],\n",
    "        'geometry': polys\n",
    "    })\n",
    "    \n",
    "sectors = circ_st.groupby('index_ixn').apply(circle_split)\n",
    "sectors.reset_index(drop=True, inplace=True)\n",
    "print sectors.shape\n",
    "sectors.head()"
   ]
  },
  {
   "cell_type": "code",
   "execution_count": 24,
   "metadata": {
    "collapsed": false
   },
   "outputs": [
    {
     "data": {
      "text/plain": [
       "<matplotlib.axes._subplots.AxesSubplot at 0x7fd941ef6a90>"
      ]
     },
     "execution_count": 24,
     "metadata": {},
     "output_type": "execute_result"
    },
    {
     "data": {
      "image/png": "[encoded data removed]",
      "text/plain": [
       "<matplotlib.figure.Figure at 0x7fd941495950>"
      ]
     },
     "metadata": {},
     "output_type": "display_data"
    }
   ],
   "source": [
    "# Example: this intersection region has now been split into nice little sectors!\n",
    "sectors.iloc[:3].plot()"
   ]
  },
  {
   "cell_type": "code",
   "execution_count": 25,
   "metadata": {
    "collapsed": false
   },
   "outputs": [],
   "source": [
    "sectors.to_file('./output/sectors.shp')"
   ]
  },
  {
   "cell_type": "code",
   "execution_count": 26,
   "metadata": {
    "collapsed": false,
    "scrolled": false
   },
   "outputs": [
    {
     "data": {
      "text/html": [
       "<div>\n",
       "<table border=\"1\" class=\"dataframe\">\n",
       "  <thead>\n",
       "    <tr style=\"text-align: right;\">\n",
       "      <th></th>\n",
       "      <th>endtype</th>\n",
       "      <th>geometry</th>\n",
       "      <th>sidewalk_id</th>\n",
       "      <th>index_sec</th>\n",
       "      <th>index_ixn</th>\n",
       "      <th>n_ends</th>\n",
       "    </tr>\n",
       "  </thead>\n",
       "  <tbody>\n",
       "    <tr>\n",
       "      <th>0</th>\n",
       "      <td>start</td>\n",
       "      <td>POINT (553102.8911546955 5286337.80036654)</td>\n",
       "      <td>0</td>\n",
       "      <td>50982</td>\n",
       "      <td>17527</td>\n",
       "      <td>2</td>\n",
       "    </tr>\n",
       "    <tr>\n",
       "      <th>1</th>\n",
       "      <td>start</td>\n",
       "      <td>POINT (554453.2372857099 5278436.529215374)</td>\n",
       "      <td>1</td>\n",
       "      <td>59373</td>\n",
       "      <td>20608</td>\n",
       "      <td>2</td>\n",
       "    </tr>\n",
       "    <tr>\n",
       "      <th>2</th>\n",
       "      <td>start</td>\n",
       "      <td>POINT (547070.4454844565 5282921.708989846)</td>\n",
       "      <td>2</td>\n",
       "      <td>9465</td>\n",
       "      <td>3450</td>\n",
       "      <td>2</td>\n",
       "    </tr>\n",
       "    <tr>\n",
       "      <th>3</th>\n",
       "      <td>start</td>\n",
       "      <td>POINT (550976.5995529721 5264167.420024389)</td>\n",
       "      <td>3</td>\n",
       "      <td>36105</td>\n",
       "      <td>12336</td>\n",
       "      <td>2</td>\n",
       "    </tr>\n",
       "    <tr>\n",
       "      <th>4</th>\n",
       "      <td>start</td>\n",
       "      <td>POINT (547051.2910976056 5283527.204193444)</td>\n",
       "      <td>4</td>\n",
       "      <td>9420</td>\n",
       "      <td>3434</td>\n",
       "      <td>2</td>\n",
       "    </tr>\n",
       "  </tbody>\n",
       "</table>\n",
       "</div>"
      ],
      "text/plain": [
       "  endtype                                     geometry  sidewalk_id  \\\n",
       "0   start   POINT (553102.8911546955 5286337.80036654)            0   \n",
       "1   start  POINT (554453.2372857099 5278436.529215374)            1   \n",
       "2   start  POINT (547070.4454844565 5282921.708989846)            2   \n",
       "3   start  POINT (550976.5995529721 5264167.420024389)            3   \n",
       "4   start  POINT (547051.2910976056 5283527.204193444)            4   \n",
       "\n",
       "   index_sec  index_ixn  n_ends  \n",
       "0      50982      17527       2  \n",
       "1      59373      20608       2  \n",
       "2       9465       3450       2  \n",
       "3      36105      12336       2  \n",
       "4       9420       3434       2  "
      ]
     },
     "execution_count": 26,
     "metadata": {},
     "output_type": "execute_result"
    }
   ],
   "source": [
    "# Label every sidewalk endpoint by which sector, if any, it is within\n",
    "ends.crs = sidewalks.crs\n",
    "sectors.crs = streets.crs\n",
    "\n",
    "# For some reason the 'within' spatial join returns 0 rows here, have to\n",
    "# use slower 'intersects' instead\n",
    "ends_sectors = gpd.sjoin(ends,\n",
    "                         sectors,\n",
    "                         how='inner',\n",
    "                         op='intersects',\n",
    "                         lsuffix='end',\n",
    "                         rsuffix='sec')\n",
    "\n",
    "ends_sectors.sort_index(inplace=True)\n",
    "\n",
    "# Copy end count into the endpoints table for filtering later\n",
    "n_ends = ends_sectors.groupby('index_sec').size()\n",
    "ends_sectors['n_ends'] = ends_sectors['index_sec'].apply(lambda x: n_ends[x])\n",
    "\n",
    "ends_sectors.head()"
   ]
  },
  {
   "cell_type": "code",
   "execution_count": 27,
   "metadata": {
    "collapsed": false
   },
   "outputs": [],
   "source": [
    "# Unfortunately, these ends are not guaranteed to be uniquely assigned to\n",
    "# a given sector - the sectors overlap when street intersections are closeby.\n",
    "\n",
    "# Therefore, we need to make a decision: for sidewalk ends assigned to more\n",
    "# than one sector, which *single* one should be kept? The naive implementation\n",
    "# is to keep the one that's closet to the intersection itself. However, this\n",
    "# can result in both sidewalk ends being assigned to the same sector, as the line\n",
    "# was drawn way too short.\n",
    "\n",
    "# So, there are two problems we want to solve, in this order:\n",
    "# A: A given sector may contain *both* sidewalk ends\n",
    "#    1) Group end-sector table by sidewalk, sector\n",
    "#    2) If count per group > 1, have identified trouble case\n",
    "#    3) Drop end farther away from sector's original street intersection\n",
    "#\n",
    "# B: A given end may belong in more than one sector. In the future, we may want to\n",
    "#    address this by modifying the sectors themselves to be non-overlapping, but\n",
    "#    in the meantime, the strategy will be to drop more-distant rows until unique\n",
    "#     1) Get the ends belonging to more than one sector (group by sidewalk and endtype)\n",
    "#     2) For each group, if it has more than one end, drop all but one of end-sector assignments. \n",
    "#        Drop the ones that are *farther* from the sector center"
   ]
  },
  {
   "cell_type": "code",
   "execution_count": 28,
   "metadata": {
    "collapsed": false,
    "scrolled": false
   },
   "outputs": [
    {
     "name": "stdout",
     "output_type": "stream",
     "text": [
      "Number of sidewalks with both ends in the same sector:  2324\n"
     ]
    },
    {
     "data": {
      "text/html": [
       "<div>\n",
       "<table border=\"1\" class=\"dataframe\">\n",
       "  <thead>\n",
       "    <tr style=\"text-align: right;\">\n",
       "      <th></th>\n",
       "      <th>endtype</th>\n",
       "      <th>geometry</th>\n",
       "      <th>sidewalk_id</th>\n",
       "      <th>index_sec</th>\n",
       "      <th>index_ixn</th>\n",
       "      <th>n_ends</th>\n",
       "    </tr>\n",
       "  </thead>\n",
       "  <tbody>\n",
       "    <tr>\n",
       "      <th>0</th>\n",
       "      <td>start</td>\n",
       "      <td>POINT (553102.8911546955 5286337.80036654)</td>\n",
       "      <td>0</td>\n",
       "      <td>50982</td>\n",
       "      <td>17527</td>\n",
       "      <td>2</td>\n",
       "    </tr>\n",
       "    <tr>\n",
       "      <th>1</th>\n",
       "      <td>end</td>\n",
       "      <td>POINT (553162.5495850043 5286337.976285667)</td>\n",
       "      <td>0</td>\n",
       "      <td>51493</td>\n",
       "      <td>17716</td>\n",
       "      <td>2</td>\n",
       "    </tr>\n",
       "    <tr>\n",
       "      <th>2</th>\n",
       "      <td>start</td>\n",
       "      <td>POINT (554453.2372857099 5278436.529215374)</td>\n",
       "      <td>1</td>\n",
       "      <td>59373</td>\n",
       "      <td>20608</td>\n",
       "      <td>2</td>\n",
       "    </tr>\n",
       "    <tr>\n",
       "      <th>3</th>\n",
       "      <td>end</td>\n",
       "      <td>POINT (554490.0374533416 5278436.835191205)</td>\n",
       "      <td>1</td>\n",
       "      <td>59586</td>\n",
       "      <td>20686</td>\n",
       "      <td>2</td>\n",
       "    </tr>\n",
       "    <tr>\n",
       "      <th>4</th>\n",
       "      <td>end</td>\n",
       "      <td>POINT (547065.3510885653 5283313.927207816)</td>\n",
       "      <td>2</td>\n",
       "      <td>9432</td>\n",
       "      <td>3438</td>\n",
       "      <td>2</td>\n",
       "    </tr>\n",
       "  </tbody>\n",
       "</table>\n",
       "</div>"
      ],
      "text/plain": [
       "  endtype                                     geometry  sidewalk_id  \\\n",
       "0   start   POINT (553102.8911546955 5286337.80036654)            0   \n",
       "1     end  POINT (553162.5495850043 5286337.976285667)            0   \n",
       "2   start  POINT (554453.2372857099 5278436.529215374)            1   \n",
       "3     end  POINT (554490.0374533416 5278436.835191205)            1   \n",
       "4     end  POINT (547065.3510885653 5283313.927207816)            2   \n",
       "\n",
       "   index_sec  index_ixn  n_ends  \n",
       "0      50982      17527       2  \n",
       "1      51493      17716       2  \n",
       "2      59373      20608       2  \n",
       "3      59586      20686       2  \n",
       "4       9432       3438       2  "
      ]
     },
     "execution_count": 28,
     "metadata": {},
     "output_type": "execute_result"
    }
   ],
   "source": [
    "# A: A given sector may contain *both* sidewalk ends\n",
    "\n",
    "#    1) Group end-sector table by sidewalk, sector\n",
    "ends_sec_count = ends_sectors.groupby(['sidewalk_id', 'index_sec']).size()\n",
    "print 'Number of sidewalks with both ends in the same sector: ', ends_sec_count[ends_sec_count > 1].shape[0]\n",
    "\n",
    "\n",
    "#    2) If count per group > 1, have identified trouble case\n",
    "#    3) Drop end farther away from sector's original street intersection\n",
    "def uniquify_sw_in_sector(group):\n",
    "    if group.shape[0] > 1:\n",
    "        # Get the sidewalk end geometries\n",
    "        ends = group.geometry\n",
    "\n",
    "        # Get the intersection geom so we can calc distance\n",
    "        ixn = intersections.loc[group['index_ixn'].iloc[0]].geometry\n",
    "        \n",
    "        \n",
    "        # Filter to the value to keep - the closest to the intersection\n",
    "        # TODO: make this step more sophisticated - use other strategy than\n",
    "        # simple distance to intersection\n",
    "        end_idx = ends.apply(lambda p: p.distance(ixn)).sort_values().index[0]\n",
    "        return group[group.index == end_idx]\n",
    "    else:\n",
    "        return group\n",
    "\n",
    "# Create new table with the 'bad' end-sector rows filtered out\n",
    "ends_sectors_g = ends_sectors.groupby(['sidewalk_id', 'index_sec']).apply(uniquify_sw_in_sector)\n",
    "\n",
    "# It creates some kind of nasty multi-index. Drop it!\n",
    "ends_sectors_g.reset_index(drop=True, inplace=True)\n",
    "\n",
    "ends_sectors_g.head()"
   ]
  },
  {
   "cell_type": "code",
   "execution_count": 29,
   "metadata": {
    "collapsed": false
   },
   "outputs": [
    {
     "name": "stdout",
     "output_type": "stream",
     "text": [
      "Number of sidewalks with both ends in the same sector:  0\n"
     ]
    }
   ],
   "source": [
    "# Verify success of step A\n",
    "print 'Number of sidewalks with both ends in the same sector: ', sum(ends_sectors_g.groupby(['sidewalk_id', 'index_sec']).size() > 1)"
   ]
  },
  {
   "cell_type": "code",
   "execution_count": 30,
   "metadata": {
    "collapsed": false
   },
   "outputs": [
    {
     "name": "stdout",
     "output_type": "stream",
     "text": [
      "Number of sidewalk ends belonging to more than one sector:  3490\n"
     ]
    },
    {
     "data": {
      "text/html": [
       "<div>\n",
       "<table border=\"1\" class=\"dataframe\">\n",
       "  <thead>\n",
       "    <tr style=\"text-align: right;\">\n",
       "      <th></th>\n",
       "      <th>endtype</th>\n",
       "      <th>geometry</th>\n",
       "      <th>sidewalk_id</th>\n",
       "      <th>index_sec</th>\n",
       "      <th>index_ixn</th>\n",
       "      <th>n_ends</th>\n",
       "    </tr>\n",
       "  </thead>\n",
       "  <tbody>\n",
       "    <tr>\n",
       "      <th>0</th>\n",
       "      <td>end</td>\n",
       "      <td>POINT (553162.5495850043 5286337.976285667)</td>\n",
       "      <td>0</td>\n",
       "      <td>51493</td>\n",
       "      <td>17716</td>\n",
       "      <td>2</td>\n",
       "    </tr>\n",
       "    <tr>\n",
       "      <th>1</th>\n",
       "      <td>end</td>\n",
       "      <td>POINT (554490.0374533416 5278436.835191205)</td>\n",
       "      <td>1</td>\n",
       "      <td>59586</td>\n",
       "      <td>20686</td>\n",
       "      <td>2</td>\n",
       "    </tr>\n",
       "    <tr>\n",
       "      <th>2</th>\n",
       "      <td>end</td>\n",
       "      <td>POINT (547065.3510885653 5283313.927207816)</td>\n",
       "      <td>2</td>\n",
       "      <td>9432</td>\n",
       "      <td>3438</td>\n",
       "      <td>2</td>\n",
       "    </tr>\n",
       "    <tr>\n",
       "      <th>3</th>\n",
       "      <td>end</td>\n",
       "      <td>POINT (550976.3976662559 5264091.456287516)</td>\n",
       "      <td>3</td>\n",
       "      <td>36100</td>\n",
       "      <td>12334</td>\n",
       "      <td>2</td>\n",
       "    </tr>\n",
       "    <tr>\n",
       "      <th>4</th>\n",
       "      <td>end</td>\n",
       "      <td>POINT (547049.9481864078 5283717.536703642)</td>\n",
       "      <td>4</td>\n",
       "      <td>9415</td>\n",
       "      <td>3432</td>\n",
       "      <td>2</td>\n",
       "    </tr>\n",
       "  </tbody>\n",
       "</table>\n",
       "</div>"
      ],
      "text/plain": [
       "  endtype                                     geometry  sidewalk_id  \\\n",
       "0     end  POINT (553162.5495850043 5286337.976285667)            0   \n",
       "1     end  POINT (554490.0374533416 5278436.835191205)            1   \n",
       "2     end  POINT (547065.3510885653 5283313.927207816)            2   \n",
       "3     end  POINT (550976.3976662559 5264091.456287516)            3   \n",
       "4     end  POINT (547049.9481864078 5283717.536703642)            4   \n",
       "\n",
       "   index_sec  index_ixn  n_ends  \n",
       "0      51493      17716       2  \n",
       "1      59586      20686       2  \n",
       "2       9432       3438       2  \n",
       "3      36100      12334       2  \n",
       "4       9415       3432       2  "
      ]
     },
     "execution_count": 30,
     "metadata": {},
     "output_type": "execute_result"
    }
   ],
   "source": [
    "# B: A given end may belong in more than one sector. In the future, we may want to\n",
    "#    address this by modifying the sectors themselves to be non-overlapping, but\n",
    "#    in the meantime, the strategy will be to drop more-distant rows until unique\n",
    "#     1) Get the ends belonging to more than one sector - group by sidewalk and endtype\n",
    "ends_sectors_ends = ends_sectors_g.groupby(['endtype', 'sidewalk_id'])\n",
    "print 'Number of sidewalk ends belonging to more than one sector: ', sum(ends_sectors_ends.size() > 1)\n",
    "\n",
    "#     2) For each group, if it has more than one end, drop all but one of end-sector assignments. \n",
    "#        Drop the ones that are *farther* from the sector center\n",
    "def uniquify_end_in_sectors(group):\n",
    "    if group.shape[0] > 1:\n",
    "        # Get the sidewalk end geometry\n",
    "        end = group.geometry.iloc[0]\n",
    "\n",
    "        # Get the intersection geoms so we can calc distance        \n",
    "        ixns = group['index_ixn'].apply(lambda ix: intersections.loc[ix].geometry)\n",
    "        # Filter to the row to keep - the intersection closest to the end\n",
    "        # TODO: make this step more sophisticated - use other strategy than\n",
    "        # simple distance to intersection\n",
    "        sec_idx = ixns.apply(lambda p: p.distance(end)).sort_values().index[0]\n",
    "        return group[group.index == sec_idx]\n",
    "    else:\n",
    "        return group\n",
    "\n",
    "# Create new table with the 'bad' end-sector rows filtered out\n",
    "ends_sectors_g2 = ends_sectors_g.groupby(['endtype', 'sidewalk_id']).apply(uniquify_end_in_sectors)\n",
    "\n",
    "# It creates some kind of nasty multi-index. Drop it!\n",
    "ends_sectors_g2.reset_index(drop=True, inplace=True)\n",
    "\n",
    "ends_sectors_g2.head()"
   ]
  },
  {
   "cell_type": "code",
   "execution_count": 31,
   "metadata": {
    "collapsed": false
   },
   "outputs": [
    {
     "name": "stdout",
     "output_type": "stream",
     "text": [
      "Number of sidewalk ends belonging to more than one sector:  0\n"
     ]
    }
   ],
   "source": [
    "print 'Number of sidewalk ends belonging to more than one sector: ', sum(ends_sectors_g2.groupby(['endtype', 'sidewalk_id']).size() > 1)"
   ]
  },
  {
   "cell_type": "code",
   "execution_count": 32,
   "metadata": {
    "collapsed": true
   },
   "outputs": [],
   "source": [
    "# Recalculate n_ends\n",
    "n_ends = ends_sectors_g2.groupby('index_sec').size()\n",
    "ends_sectors_g2['n_ends'] = ends_sectors_g2['index_sec'].apply(lambda x: n_ends[x])"
   ]
  },
  {
   "cell_type": "code",
   "execution_count": 33,
   "metadata": {
    "collapsed": false
   },
   "outputs": [
    {
     "name": "stdout",
     "output_type": "stream",
     "text": [
      "Easy-fix fraction:  0.928903016854\n"
     ]
    }
   ],
   "source": [
    "ends_sectors_easy = ends_sectors_g2[ends_sectors_g2['n_ends'] == 2]\n",
    "print 'Easy-fix fraction: ', ends_sectors_easy.shape[0] / float(ends_sectors_g2.shape[0])\n",
    "ends_sectors_easy.to_file('./output/ends_sectors_easy.shp')"
   ]
  },
  {
   "cell_type": "code",
   "execution_count": 34,
   "metadata": {
    "collapsed": false
   },
   "outputs": [
    {
     "data": {
      "text/html": [
       "<div>\n",
       "<table border=\"1\" class=\"dataframe\">\n",
       "  <thead>\n",
       "    <tr style=\"text-align: right;\">\n",
       "      <th></th>\n",
       "      <th>endtype</th>\n",
       "      <th>geometry</th>\n",
       "      <th>index_sec</th>\n",
       "      <th>sidewalk_id</th>\n",
       "    </tr>\n",
       "  </thead>\n",
       "  <tbody>\n",
       "    <tr>\n",
       "      <th>0</th>\n",
       "      <td>end</td>\n",
       "      <td>POINT (553162.5495850043 5286337.976285667)</td>\n",
       "      <td>51493</td>\n",
       "      <td>0</td>\n",
       "    </tr>\n",
       "    <tr>\n",
       "      <th>1</th>\n",
       "      <td>end</td>\n",
       "      <td>POINT (554494.1282786694 5278436.869212953)</td>\n",
       "      <td>59586</td>\n",
       "      <td>1</td>\n",
       "    </tr>\n",
       "    <tr>\n",
       "      <th>2</th>\n",
       "      <td>end</td>\n",
       "      <td>POINT (547065.3545770072 5283313.159699246)</td>\n",
       "      <td>9432</td>\n",
       "      <td>2</td>\n",
       "    </tr>\n",
       "    <tr>\n",
       "      <th>3</th>\n",
       "      <td>end</td>\n",
       "      <td>POINT (550976.389382826 5264088.339488655)</td>\n",
       "      <td>36100</td>\n",
       "      <td>3</td>\n",
       "    </tr>\n",
       "    <tr>\n",
       "      <th>4</th>\n",
       "      <td>end</td>\n",
       "      <td>POINT (547049.9481864078 5283717.536703646)</td>\n",
       "      <td>9415</td>\n",
       "      <td>4</td>\n",
       "    </tr>\n",
       "  </tbody>\n",
       "</table>\n",
       "</div>"
      ],
      "text/plain": [
       "  endtype                                     geometry  index_sec  sidewalk_id\n",
       "0     end  POINT (553162.5495850043 5286337.976285667)      51493            0\n",
       "1     end  POINT (554494.1282786694 5278436.869212953)      59586            1\n",
       "2     end  POINT (547065.3545770072 5283313.159699246)       9432            2\n",
       "3     end   POINT (550976.389382826 5264088.339488655)      36100            3\n",
       "4     end  POINT (547049.9481864078 5283717.536703646)       9415            4"
      ]
     },
     "execution_count": 34,
     "metadata": {},
     "output_type": "execute_result"
    }
   ],
   "source": [
    "# The easy-fix (2 sidewalk ends to a sector!) ends have been identified.\n",
    "# Now we need to *move them*. The naive approach is to average their\n",
    "# geometries. This will create significant offset error, but is super\n",
    "# easy to do and gives us a good way to visualize the 'fixed vs. non-fixed'\n",
    "# cases\n",
    "\n",
    "# TODO: optimize the ends_join function. It's veeeeery slow\n",
    "\n",
    "def ends_avg(group):\n",
    "    # Note: expectation is that this is a group of shape (2, n)\n",
    "    # Find midpoint 'point' between the two\n",
    "    p1, p2 = group.geometry\n",
    "    point = geometry.Point([(p1.x + p2.x) / 2, (p1.y + p2.y) / 2])\n",
    "    \n",
    "    return gpd.GeoDataFrame({\n",
    "        'sidewalk_id': group['sidewalk_id'],\n",
    "        'endtype': group['endtype'],\n",
    "        'index_sec': group['index_sec'],\n",
    "        'geometry': [point] * 2\n",
    "    })\n",
    "\n",
    "def ends_join(group):\n",
    "    # Strategy: use midpoint if lines are parallel, use intersection\n",
    "    #           point if they're orthogonal, and linearly scale between\n",
    "    \n",
    "    # Note: expectation is that this is a group of shape (2, n)\n",
    "    def azimuth(p1, p2):\n",
    "        radians = np.arctan2(p2[0] - p1[0], p2[1] - p1[1])\n",
    "        if radians < 0:\n",
    "            radians += np.pi\n",
    "        return radians\n",
    "    \n",
    "    # Need to look up sidewalks in order to calculate azimuth / intersection points\n",
    "    segments = []\n",
    "    azimuths = []\n",
    "\n",
    "    for i in range(2):\n",
    "        s = sidewalks.loc[group.iloc[i]['sidewalk_id']]\n",
    "        s_type = group.iloc[i]['endtype']\n",
    "        if s_type == 'start':\n",
    "            # Get the first 2 points\n",
    "            segment = geometry.LineString(reversed(s.geometry.coords[:2]))\n",
    "        else:\n",
    "            # Get the last 2 points\n",
    "            segment = geometry.LineString(s.geometry.coords[-2:])\n",
    "        segments.append(segment)\n",
    "        azimuths.append(azimuth(segment.coords[0], segment.coords[1]))\n",
    "\n",
    "    # Find the difference in azimuth + the intersection\n",
    "    dazimuth = abs(azimuths[1] - azimuths[0])\n",
    "    \n",
    "    # The 'sin' function is close to what we want - ~0 when\n",
    "    # dazimuth is ~0 or ~pi (parallel) and ~1 when ~orthogonal\n",
    "    scale = np.sin(dazimuth)\n",
    "    \n",
    "    def intersection(segment1, segment2):\n",
    "        # Given two line segments, find the intersection\n",
    "        # point between their representative lines\n",
    "        def line(segment):\n",
    "            # Given a line segment, find the line (mx + b)\n",
    "            # parameters m and b\n",
    "            xs, ys = segment.xy\n",
    "            m = (ys[1] - ys[0]) / (xs[1] - xs[0])\n",
    "            b = ys[0] - (m * xs[0])\n",
    "            return (m, b)\n",
    "\n",
    "        m1, b1 = line(segment1)\n",
    "        m2, b2 = line(segment2)\n",
    "\n",
    "        x = (b2 - b1) / float((m1 - m2))\n",
    "        y = m1 * x + b1\n",
    "\n",
    "        return geometry.Point(x, y)\n",
    "    \n",
    "    if scale < 0.1:\n",
    "        # They're parallelish, use midpoint\n",
    "        p1, p2 = group.geometry\n",
    "        point = geometry.Point([(p1.x + p2.x) / 2, (p1.y + p2.y) / 2])\n",
    "    elif scale > 0.9:\n",
    "        # They're orthogonalish, use intersection\n",
    "        point = intersection(*segments)\n",
    "    else:\n",
    "        # They're in between - use weighted average\n",
    "        p1, p2 = group.geometry\n",
    "        mid = geometry.Point([(p1.x + p2.x) / 2, (p1.y + p2.y) / 2])\n",
    "        ixn = intersection(*segments)\n",
    "        \n",
    "        midx, midy = [scale * coord for coord in mid.coords[0]]\n",
    "        ixnx, ixny = [(1 - scale) * coord for coord in ixn.coords[0]]\n",
    "        \n",
    "        \n",
    "        point = geometry.Point([midx + ixnx, midy + ixny])\n",
    "\n",
    "    return gpd.GeoDataFrame({\n",
    "        'sidewalk_id': group['sidewalk_id'],\n",
    "        'endtype': group['endtype'],\n",
    "        'index_sec': group['index_sec'],\n",
    "        'geometry': [point] * 2\n",
    "    })\n",
    "\n",
    "\n",
    "new_ends = ends_sectors_easy.groupby('index_sec').apply(ends_join)\n",
    "new_ends.crs = ends.crs\n",
    "new_ends.head()"
   ]
  },
  {
   "cell_type": "code",
   "execution_count": 35,
   "metadata": {
    "collapsed": false
   },
   "outputs": [
    {
     "name": "stdout",
     "output_type": "stream",
     "text": [
      "0.0144757068904 -172.414294207\n",
      "[(550991.4315828895, 5278178.050603724)]\n"
     ]
    },
    {
     "data": {
      "image/png": "[encoded data removed]",
      "text/plain": [
       "<matplotlib.figure.Figure at 0x7fd9338b9d10>"
      ]
     },
     "metadata": {},
     "output_type": "display_data"
    }
   ],
   "source": [
    "def intersection(segment1, segment2):\n",
    "    # Given two line segments, find the intersection\n",
    "    # point between their representative lines\n",
    "    def line(segment):\n",
    "        # Given a line segment, find the line (mx + b)\n",
    "        # parameters m and b\n",
    "        xs, ys = segment.xy\n",
    "        m = (ys[1] - ys[0]) / (xs[1] - xs[0])\n",
    "        b = ys[0] - (m * xs[0])\n",
    "        return (m, b)\n",
    "    \n",
    "    m1, b1 = line(segment1)\n",
    "    m2, b2 = line(segment2)\n",
    "    print m1, m2\n",
    "\n",
    "    x = (b2 - b1) / float((m1 - m2))\n",
    "    y = m1 * x + b1\n",
    "\n",
    "    return geometry.Point(x, y)\n",
    "\n",
    "s1 = sidewalks.loc[2824].geometry\n",
    "s2 = sidewalks.loc[3549].geometry\n",
    "# s1 = sidewalks.loc[22736].geometry\n",
    "# s2 = sidewalks.loc[23780].geometry\n",
    "\n",
    "s1 = geometry.LineString(s1.coords[-2:])\n",
    "s2 = geometry.LineString(s2.coords[-2:])\n",
    "ixn = intersection(s1, s2)\n",
    "\n",
    "print list(ixn.coords)\n",
    "\n",
    "plt.plot(*s1.xy)\n",
    "plt.plot(*s2.xy)\n",
    "plt.scatter(*ixn.xy);"
   ]
  },
  {
   "cell_type": "code",
   "execution_count": 36,
   "metadata": {
    "collapsed": false
   },
   "outputs": [
    {
     "data": {
      "text/html": [
       "<div>\n",
       "<table border=\"1\" class=\"dataframe\">\n",
       "  <thead>\n",
       "    <tr style=\"text-align: right;\">\n",
       "      <th></th>\n",
       "      <th>sidewalk_id</th>\n",
       "      <th>COMPKEY</th>\n",
       "      <th>SEGKEY</th>\n",
       "      <th>curbramp_end</th>\n",
       "      <th>curbramp_start</th>\n",
       "      <th>geometry</th>\n",
       "    </tr>\n",
       "  </thead>\n",
       "  <tbody>\n",
       "    <tr>\n",
       "      <th>0</th>\n",
       "      <td>0</td>\n",
       "      <td>330518</td>\n",
       "      <td>16626</td>\n",
       "      <td>Y</td>\n",
       "      <td>Y</td>\n",
       "      <td>LINESTRING (553102.8911546957 5286337.80036654...</td>\n",
       "    </tr>\n",
       "    <tr>\n",
       "      <th>1</th>\n",
       "      <td>1</td>\n",
       "      <td>330507</td>\n",
       "      <td>16724</td>\n",
       "      <td>U</td>\n",
       "      <td>U</td>\n",
       "      <td>LINESTRING (554453.2372857099 5278436.52921537...</td>\n",
       "    </tr>\n",
       "    <tr>\n",
       "      <th>2</th>\n",
       "      <td>2</td>\n",
       "      <td>330424</td>\n",
       "      <td>1764</td>\n",
       "      <td>U</td>\n",
       "      <td>U</td>\n",
       "      <td>LINESTRING (547070.6213051372 5282921.68117882...</td>\n",
       "    </tr>\n",
       "    <tr>\n",
       "      <th>3</th>\n",
       "      <td>3</td>\n",
       "      <td>330336</td>\n",
       "      <td>8461</td>\n",
       "      <td>U</td>\n",
       "      <td>U</td>\n",
       "      <td>LINESTRING (550976.6073268392 5264170.34509050...</td>\n",
       "    </tr>\n",
       "    <tr>\n",
       "      <th>4</th>\n",
       "      <td>4</td>\n",
       "      <td>330419</td>\n",
       "      <td>1766</td>\n",
       "      <td>U</td>\n",
       "      <td>U</td>\n",
       "      <td>LINESTRING (547051.2910976056 5283527.20419344...</td>\n",
       "    </tr>\n",
       "  </tbody>\n",
       "</table>\n",
       "</div>"
      ],
      "text/plain": [
       "   sidewalk_id  COMPKEY  SEGKEY curbramp_end curbramp_start  \\\n",
       "0            0   330518   16626            Y              Y   \n",
       "1            1   330507   16724            U              U   \n",
       "2            2   330424    1764            U              U   \n",
       "3            3   330336    8461            U              U   \n",
       "4            4   330419    1766            U              U   \n",
       "\n",
       "                                            geometry  \n",
       "0  LINESTRING (553102.8911546957 5286337.80036654...  \n",
       "1  LINESTRING (554453.2372857099 5278436.52921537...  \n",
       "2  LINESTRING (547070.6213051372 5282921.68117882...  \n",
       "3  LINESTRING (550976.6073268392 5264170.34509050...  \n",
       "4  LINESTRING (547051.2910976056 5283527.20419344...  "
      ]
     },
     "execution_count": 36,
     "metadata": {},
     "output_type": "execute_result"
    }
   ],
   "source": [
    "# Create (sidewalk-indexed) GeoSeries of new sidewalk geometries\n",
    "def sw_ends_update(sw_row):\n",
    "    ends_group = new_ends[new_ends['sidewalk_id'] == sw_row['sidewalk_id']]\n",
    "    if ends_group.empty:\n",
    "        return sw_row\n",
    "    else:\n",
    "        coords = list(sw_row['geometry'].coords)\n",
    "        start_group = ends_group[ends_group['endtype'] == 'start']\n",
    "        end_group = ends_group[ends_group['endtype'] == 'end']\n",
    "        if not start_group.empty:\n",
    "            coords[0] = start_group['geometry'].iloc[0].coords[0]\n",
    "        if not end_group.empty:\n",
    "            coords[-1] = end_group['geometry'].iloc[0].coords[0]\n",
    "        row_copy = sw_row.copy()\n",
    "        row_copy['geometry'] = geometry.LineString(coords)\n",
    "        return row_copy\n",
    "\n",
    "sector_fixed_sidewalks = sidewalks.apply(sw_ends_update, axis=1)\n",
    "sector_fixed_sidewalks.crs = sidewalks.crs\n",
    "sector_fixed_sidewalks.head()"
   ]
  },
  {
   "cell_type": "code",
   "execution_count": 37,
   "metadata": {
    "collapsed": false
   },
   "outputs": [],
   "source": [
    "# Write ends to file\n",
    "ends.to_file('./output/ends.shp')\n",
    "new_ends.to_file('./output/new_ends.shp')\n",
    "sector_fixed_sidewalks.to_file('./output/sector_fixed_sidewalks.shp')"
   ]
  },
  {
   "cell_type": "markdown",
   "metadata": {},
   "source": [
    "# Snap nearby ends\n",
    "\n",
    "As one final step of cleanup, there may be small gaps left over in the dataset in previously-untouched sidewalk endpoints. Naively, we will simply connect endpoints if they're below some threshold (and so long as doing so doesn't result in a line that intersects a street)."
   ]
  },
  {
   "cell_type": "code",
   "execution_count": 70,
   "metadata": {
    "collapsed": false
   },
   "outputs": [
    {
     "name": "stdout",
     "output_type": "stream",
     "text": [
      "(11539, 3)\n"
     ]
    },
    {
     "data": {
      "text/html": [
       "<div>\n",
       "<table border=\"1\" class=\"dataframe\">\n",
       "  <thead>\n",
       "    <tr style=\"text-align: right;\">\n",
       "      <th></th>\n",
       "      <th>endtype</th>\n",
       "      <th>geometry</th>\n",
       "      <th>sidewalk_id</th>\n",
       "    </tr>\n",
       "  </thead>\n",
       "  <tbody>\n",
       "    <tr>\n",
       "      <th>33</th>\n",
       "      <td>start</td>\n",
       "      <td>POINT (554231.0435601913 5282830.19993804)</td>\n",
       "      <td>33</td>\n",
       "    </tr>\n",
       "    <tr>\n",
       "      <th>35</th>\n",
       "      <td>start</td>\n",
       "      <td>POINT (553633.4231680527 5282631.546985995)</td>\n",
       "      <td>35</td>\n",
       "    </tr>\n",
       "    <tr>\n",
       "      <th>41</th>\n",
       "      <td>start</td>\n",
       "      <td>POINT (554414.3717945352 5282724.678282091)</td>\n",
       "      <td>41</td>\n",
       "    </tr>\n",
       "    <tr>\n",
       "      <th>42</th>\n",
       "      <td>start</td>\n",
       "      <td>POINT (550190.6530848306 5282156.434301921)</td>\n",
       "      <td>42</td>\n",
       "    </tr>\n",
       "    <tr>\n",
       "      <th>49</th>\n",
       "      <td>start</td>\n",
       "      <td>POINT (550913.2531106473 5280907.729712737)</td>\n",
       "      <td>49</td>\n",
       "    </tr>\n",
       "  </tbody>\n",
       "</table>\n",
       "</div>"
      ],
      "text/plain": [
       "   endtype                                     geometry  sidewalk_id\n",
       "33   start   POINT (554231.0435601913 5282830.19993804)           33\n",
       "35   start  POINT (553633.4231680527 5282631.546985995)           35\n",
       "41   start  POINT (554414.3717945352 5282724.678282091)           41\n",
       "42   start  POINT (550190.6530848306 5282156.434301921)           42\n",
       "49   start  POINT (550913.2531106473 5280907.729712737)           49"
      ]
     },
     "execution_count": 70,
     "metadata": {},
     "output_type": "execute_result"
    }
   ],
   "source": [
    "# Find sidewalk ends of interest:\n",
    "#  * Ends that aren't in intersection sectors at all\n",
    "#  * Ends that were in a sector with n=1\n",
    "end_nosector = ends[~ends.index.isin(ends_sectors.index)].copy()\n",
    "end_single = ends[ends.index.isin(ends_sectors[ends_sectors['n_ends'] < 2].index)]\n",
    "\n",
    "ends_sectors_leftover = pd.concat([end_nosector, end_single])\n",
    "\n",
    "# list(ends_sectors.index) + \n",
    "# ends_sectors_leftover = ends[~ends.index.isin(ends_sectors.index)].copy()\n",
    "# pd.concat([ends_sectors_leftover, ends_sectors[ends_sectors['n_ends'] < 2]\n",
    "\n",
    "print ends_sectors_leftover.shape\n",
    "ends_sectors_leftover.head()"
   ]
  },
  {
   "cell_type": "code",
   "execution_count": 71,
   "metadata": {
    "collapsed": false
   },
   "outputs": [
    {
     "data": {
      "text/html": [
       "<div>\n",
       "<table border=\"1\" class=\"dataframe\">\n",
       "  <thead>\n",
       "    <tr style=\"text-align: right;\">\n",
       "      <th></th>\n",
       "      <th>endtype</th>\n",
       "      <th>geometry</th>\n",
       "      <th>sidewalk_id</th>\n",
       "      <th>near_id</th>\n",
       "      <th>near_geom</th>\n",
       "      <th>near_dist</th>\n",
       "    </tr>\n",
       "  </thead>\n",
       "  <tbody>\n",
       "    <tr>\n",
       "      <th>33</th>\n",
       "      <td>start</td>\n",
       "      <td>POINT (554231.0435601913 5282830.19993804)</td>\n",
       "      <td>33</td>\n",
       "      <td>10946</td>\n",
       "      <td>POINT (554249.8334392686 5282840.93035549)</td>\n",
       "      <td>21.637962</td>\n",
       "    </tr>\n",
       "    <tr>\n",
       "      <th>35</th>\n",
       "      <td>start</td>\n",
       "      <td>POINT (553633.4231680527 5282631.546985995)</td>\n",
       "      <td>35</td>\n",
       "      <td>7959</td>\n",
       "      <td>POINT (553620.9306147071 5282631.50416077)</td>\n",
       "      <td>12.492627</td>\n",
       "    </tr>\n",
       "    <tr>\n",
       "      <th>41</th>\n",
       "      <td>start</td>\n",
       "      <td>POINT (554414.3717945352 5282724.678282091)</td>\n",
       "      <td>41</td>\n",
       "      <td>8876</td>\n",
       "      <td>POINT (554403.3690594152 5282718.761665178)</td>\n",
       "      <td>12.492659</td>\n",
       "    </tr>\n",
       "    <tr>\n",
       "      <th>42</th>\n",
       "      <td>start</td>\n",
       "      <td>POINT (550190.6530848306 5282156.434301921)</td>\n",
       "      <td>42</td>\n",
       "      <td>135</td>\n",
       "      <td>POINT (550203.1441022737 5282156.632836232)</td>\n",
       "      <td>12.492595</td>\n",
       "    </tr>\n",
       "    <tr>\n",
       "      <th>49</th>\n",
       "      <td>start</td>\n",
       "      <td>POINT (550913.2531106473 5280907.729712737)</td>\n",
       "      <td>49</td>\n",
       "      <td>61696</td>\n",
       "      <td>POINT (550900.7251863118 5280909.455331372)</td>\n",
       "      <td>12.646211</td>\n",
       "    </tr>\n",
       "  </tbody>\n",
       "</table>\n",
       "</div>"
      ],
      "text/plain": [
       "   endtype                                     geometry  sidewalk_id  near_id  \\\n",
       "33   start   POINT (554231.0435601913 5282830.19993804)           33    10946   \n",
       "35   start  POINT (553633.4231680527 5282631.546985995)           35     7959   \n",
       "41   start  POINT (554414.3717945352 5282724.678282091)           41     8876   \n",
       "42   start  POINT (550190.6530848306 5282156.434301921)           42      135   \n",
       "49   start  POINT (550913.2531106473 5280907.729712737)           49    61696   \n",
       "\n",
       "                                      near_geom  near_dist  \n",
       "33   POINT (554249.8334392686 5282840.93035549)  21.637962  \n",
       "35   POINT (553620.9306147071 5282631.50416077)  12.492627  \n",
       "41  POINT (554403.3690594152 5282718.761665178)  12.492659  \n",
       "42  POINT (550203.1441022737 5282156.632836232)  12.492595  \n",
       "49  POINT (550900.7251863118 5280909.455331372)  12.646211  "
      ]
     },
     "execution_count": 71,
     "metadata": {},
     "output_type": "execute_result"
    }
   ],
   "source": [
    "# Snap behavior - need to locate other non-modified ends within a certain distance\n",
    "ends_sectors_leftover.sindex\n",
    "def nearest_end(row):\n",
    "    xy = row.geometry.coords[0]\n",
    "    match2 = ends_sectors_leftover.sindex.nearest(xy, 2, objects=True)\n",
    "    end_id = list(match2)[1].object\n",
    "    \n",
    "    return end_id\n",
    "\n",
    "ends_sectors_leftover['near_id'] = ends_sectors_leftover.apply(nearest_end, axis=1)\n",
    "ends_sectors_leftover['near_geom'] = list(ends_sectors_leftover.loc[ends_sectors_leftover['near_id']].geometry)\n",
    "ends_sectors_leftover['near_dist'] = ends_sectors_leftover.apply(lambda row: row.geometry.distance(row['near_geom']), axis=1)\n",
    "ends_sectors_leftover.head()"
   ]
  },
  {
   "cell_type": "code",
   "execution_count": 72,
   "metadata": {
    "collapsed": false
   },
   "outputs": [
    {
     "data": {
      "text/plain": [
       "9194"
      ]
     },
     "execution_count": 72,
     "metadata": {},
     "output_type": "execute_result"
    }
   ],
   "source": [
    "snap_dist = 20\n",
    "ends_sectors_leftover['near_changed'] = ((ends_sectors_leftover['near_dist'] < snap_dist) & (ends_sectors_leftover['near_dist'] > 0)).astype(int)\n",
    "ends_sectors_leftover['near_changed'].sum()"
   ]
  },
  {
   "cell_type": "code",
   "execution_count": 73,
   "metadata": {
    "collapsed": false
   },
   "outputs": [
    {
     "data": {
      "text/html": [
       "<div>\n",
       "<table border=\"1\" class=\"dataframe\">\n",
       "  <thead>\n",
       "    <tr style=\"text-align: right;\">\n",
       "      <th></th>\n",
       "      <th>sidewalk_id</th>\n",
       "      <th>COMPKEY</th>\n",
       "      <th>SEGKEY</th>\n",
       "      <th>curbramp_end</th>\n",
       "      <th>curbramp_start</th>\n",
       "      <th>geometry</th>\n",
       "    </tr>\n",
       "  </thead>\n",
       "  <tbody>\n",
       "    <tr>\n",
       "      <th>0</th>\n",
       "      <td>0</td>\n",
       "      <td>330518</td>\n",
       "      <td>16626</td>\n",
       "      <td>Y</td>\n",
       "      <td>Y</td>\n",
       "      <td>LINESTRING (553102.8911546957 5286337.80036654...</td>\n",
       "    </tr>\n",
       "    <tr>\n",
       "      <th>1</th>\n",
       "      <td>1</td>\n",
       "      <td>330507</td>\n",
       "      <td>16724</td>\n",
       "      <td>U</td>\n",
       "      <td>U</td>\n",
       "      <td>LINESTRING (554453.2372857099 5278436.52921537...</td>\n",
       "    </tr>\n",
       "    <tr>\n",
       "      <th>2</th>\n",
       "      <td>2</td>\n",
       "      <td>330424</td>\n",
       "      <td>1764</td>\n",
       "      <td>U</td>\n",
       "      <td>U</td>\n",
       "      <td>LINESTRING (547070.6213051372 5282921.68117882...</td>\n",
       "    </tr>\n",
       "    <tr>\n",
       "      <th>3</th>\n",
       "      <td>3</td>\n",
       "      <td>330336</td>\n",
       "      <td>8461</td>\n",
       "      <td>U</td>\n",
       "      <td>U</td>\n",
       "      <td>LINESTRING (550976.6073268392 5264170.34509050...</td>\n",
       "    </tr>\n",
       "    <tr>\n",
       "      <th>4</th>\n",
       "      <td>4</td>\n",
       "      <td>330419</td>\n",
       "      <td>1766</td>\n",
       "      <td>U</td>\n",
       "      <td>U</td>\n",
       "      <td>LINESTRING (547051.2910976056 5283527.20419344...</td>\n",
       "    </tr>\n",
       "  </tbody>\n",
       "</table>\n",
       "</div>"
      ],
      "text/plain": [
       "   sidewalk_id  COMPKEY  SEGKEY curbramp_end curbramp_start  \\\n",
       "0            0   330518   16626            Y              Y   \n",
       "1            1   330507   16724            U              U   \n",
       "2            2   330424    1764            U              U   \n",
       "3            3   330336    8461            U              U   \n",
       "4            4   330419    1766            U              U   \n",
       "\n",
       "                                            geometry  \n",
       "0  LINESTRING (553102.8911546957 5286337.80036654...  \n",
       "1  LINESTRING (554453.2372857099 5278436.52921537...  \n",
       "2  LINESTRING (547070.6213051372 5282921.68117882...  \n",
       "3  LINESTRING (550976.6073268392 5264170.34509050...  \n",
       "4  LINESTRING (547051.2910976056 5283527.20419344...  "
      ]
     },
     "execution_count": 73,
     "metadata": {},
     "output_type": "execute_result"
    }
   ],
   "source": [
    "# Snap if distance is below threshold\n",
    "# FIXME: check for snapped lines resulting in street crossing\n",
    "streets.sindex\n",
    "def snap(row):\n",
    "    if row.near_dist < snap_dist and row.near_dist > 0:\n",
    "        x1, y1 = row.geometry.coords[0]\n",
    "        x2, y2 = row['near_geom'].coords[0]\n",
    "        x = (x1 + x2) / 2\n",
    "        y = (y1 + y2) / 2\n",
    "        snapped = geometry.Point([x, y])\n",
    "        \n",
    "        # Check whether this would create a sidewalk-street intersection\n",
    "        l1 = geometry.LineString([geometry.Point(x1, y1), snapped])\n",
    "        l2 = geometry.LineString([geometry.Point(x2, y2), snapped])\n",
    "        \n",
    "        for line in [l1, l2]:\n",
    "            bound_ixn = [x.object for x in streets.sindex.intersection(l1.bounds, objects=True)]\n",
    "            if bound_ixn:\n",
    "                if streets.loc[bound_ixn].intersects(line).any():\n",
    "                    return row.geometry\n",
    "        return snapped\n",
    "    else:\n",
    "        return row.geometry\n",
    "\n",
    "ends_sectors_leftover['geometry'] = ends_sectors_leftover.apply(snap, axis=1)\n",
    "ends_sectors_leftover\n",
    "\n",
    "# Update the dataset\n",
    "# Create (sidewalk-indexed) GeoSeries of new sidewalk geometries\n",
    "def sw_ends_update2(sw_row):\n",
    "    ends_group = ends_sectors_leftover[ends_sectors_leftover['sidewalk_id'] == sw_row['sidewalk_id']]\n",
    "    if ends_group.empty:\n",
    "        return sw_row\n",
    "    else:\n",
    "        coords = list(sw_row['geometry'].coords)\n",
    "        start_group = ends_group[ends_group['endtype'] == 'start']\n",
    "        end_group = ends_group[ends_group['endtype'] == 'end']\n",
    "        if not start_group.empty:\n",
    "            coords[0] = start_group['geometry'].iloc[0].coords[0]\n",
    "        if not end_group.empty:\n",
    "            coords[-1] = end_group['geometry'].iloc[0].coords[0]\n",
    "        row_copy = sw_row.copy()\n",
    "        row_copy['geometry'] = geometry.LineString(coords)\n",
    "        return row_copy\n",
    "\n",
    "snap_fixed_sidewalks = sector_fixed_sidewalks.apply(sw_ends_update2, axis=1)\n",
    "snap_fixed_sidewalks.crs = sidewalks.crs\n",
    "snap_fixed_sidewalks.head()"
   ]
  },
  {
   "cell_type": "code",
   "execution_count": 74,
   "metadata": {
    "collapsed": false
   },
   "outputs": [],
   "source": [
    "# Write snapped ends to file\n",
    "ends_sectors_leftover['endid'] = ends_sectors_leftover.index\n",
    "ends_sectors_leftover[['endid', 'geometry']].to_file('./output/ends_sectors_leftover.shp')\n",
    "ends_sectors_leftover[ends_sectors_leftover['near_changed'] == 1][['geometry', 'near_changed']].to_file('./output/snap_fixed_ends.shp')\n",
    "snap_fixed_sidewalks.to_file('./output/snap_fixed_sidewalks.shp')"
   ]
  },
  {
   "cell_type": "code",
   "execution_count": 75,
   "metadata": {
    "collapsed": false
   },
   "outputs": [
    {
     "data": {
      "text/plain": [
       "endtype                                                 end\n",
       "geometry        POINT (552199.2036105233 5277529.514903119)\n",
       "sidewalk_id                                            1769\n",
       "near_id                                                4580\n",
       "near_geom       POINT (552213.2631634471 5277540.345858882)\n",
       "near_dist                                           17.7477\n",
       "near_changed                                              1\n",
       "endid                                                 47297\n",
       "Name: 47297, dtype: object"
      ]
     },
     "execution_count": 75,
     "metadata": {},
     "output_type": "execute_result"
    }
   ],
   "source": [
    "ends_sectors_leftover.loc[47297]"
   ]
  },
  {
   "cell_type": "markdown",
   "metadata": {},
   "source": [
    "# Create 'blocks' polygons"
   ]
  },
  {
   "cell_type": "code",
   "execution_count": 44,
   "metadata": {
    "collapsed": false
   },
   "outputs": [],
   "source": [
    "# hull = geometry.MultiLineString(list(streets.geometry)).convex_hull.exterior.coords\n",
    "# hull_lines = [geometry.LineString([hull[i], hull[i + 1]]) for i in range(len(hull) - 1)]\n",
    "# streets_and_hull = list(streets.geometry) + hull_lines\n",
    "\n",
    "# blocks = gpd.GeoDataFrame(geometry=list(ops.polygonize(streets_and_hull)))"
   ]
  },
  {
   "cell_type": "code",
   "execution_count": 45,
   "metadata": {
    "collapsed": false
   },
   "outputs": [],
   "source": [
    "# blocks.crs = streets0.crs\n",
    "# blocks = blocks.to_crs({'init': 'epsg:4326'})\n",
    "# blocks.to_file('./output/blocks.shp')"
   ]
  },
  {
   "cell_type": "code",
   "execution_count": 46,
   "metadata": {
    "collapsed": false
   },
   "outputs": [],
   "source": [
    "# polys, dangles, cuts, invalid = [gpd.GeoDataFrame(geometry=list(result)) for result in ops.polygonize_full(streets_and_hull)]"
   ]
  },
  {
   "cell_type": "code",
   "execution_count": 47,
   "metadata": {
    "collapsed": false
   },
   "outputs": [],
   "source": [
    "# dangles.crs = streets0.crs\n",
    "# cuts.crs = streets0.crs\n",
    "# invalid.crs = streets0.crs\n",
    "\n",
    "# dangles.to_crs({'init': 'epsg:4326'})\n",
    "# cuts.to_crs({'init': 'epsg:4326'})\n",
    "# invalid.to_crs({'init': 'epsg:4326'})\n",
    "\n",
    "# dangles.to_file('./output/dangles.shp')\n",
    "# cuts.to_file('./output/cuts.shp')\n",
    "# invalid.to_file('./output/invalid.shp')"
   ]
  },
  {
   "cell_type": "code",
   "execution_count": null,
   "metadata": {
    "collapsed": true
   },
   "outputs": [],
   "source": []
  }
 ],
 "metadata": {
  "kernelspec": {
   "display_name": "Python 2",
   "language": "python",
   "name": "python2"
  },
  "language_info": {
   "codemirror_mode": {
    "name": "ipython",
    "version": 2
   },
   "file_extension": ".py",
   "mimetype": "text/x-python",
   "name": "python",
   "nbconvert_exporter": "python",
   "pygments_lexer": "ipython2",
   "version": "2.7.11+"
  }
 },
 "nbformat": 4,
 "nbformat_minor": 0
}
